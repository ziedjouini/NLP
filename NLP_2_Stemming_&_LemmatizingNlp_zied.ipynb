{
  "nbformat": 4,
  "nbformat_minor": 0,
  "metadata": {
    "colab": {
      "provenance": [],
      "authorship_tag": "ABX9TyOuFwcVY7i6Zb4AP40d6sKm",
      "include_colab_link": true
    },
    "kernelspec": {
      "name": "python3",
      "display_name": "Python 3"
    },
    "language_info": {
      "name": "python"
    }
  },
  "cells": [
    {
      "cell_type": "markdown",
      "metadata": {
        "id": "view-in-github",
        "colab_type": "text"
      },
      "source": [
        "<a href=\"https://colab.research.google.com/github/ziedjouini/NLP/blob/main/NLP_2_Stemming_%26_LemmatizingNlp_zied.ipynb\" target=\"_parent\"><img src=\"https://colab.research.google.com/assets/colab-badge.svg\" alt=\"Open In Colab\"/></a>"
      ]
    },
    {
      "cell_type": "code",
      "source": [
        "import pandas as pd\n",
        "import string\n"
      ],
      "metadata": {
        "id": "3fkKfPRnGm6W"
      },
      "execution_count": null,
      "outputs": []
    },
    {
      "cell_type": "code",
      "execution_count": null,
      "metadata": {
        "id": "KOU7DEwywg74"
      },
      "outputs": [],
      "source": [
        "#sentence = \"This is a very very very good example sentence.\"\n",
        "#sentence.split()"
      ]
    },
    {
      "cell_type": "code",
      "source": [
        "import nltk\n",
        "\n",
        "nltk.download('popular')"
      ],
      "metadata": {
        "colab": {
          "base_uri": "https://localhost:8080/"
        },
        "id": "LmUmhVQ58PEh",
        "outputId": "ed27ef84-3f7f-4b07-fb85-0154367fafbc"
      },
      "execution_count": null,
      "outputs": [
        {
          "output_type": "stream",
          "name": "stderr",
          "text": [
            "[nltk_data] Downloading collection 'popular'\n",
            "[nltk_data]    | \n",
            "[nltk_data]    | Downloading package cmudict to /root/nltk_data...\n",
            "[nltk_data]    |   Package cmudict is already up-to-date!\n",
            "[nltk_data]    | Downloading package gazetteers to /root/nltk_data...\n",
            "[nltk_data]    |   Package gazetteers is already up-to-date!\n",
            "[nltk_data]    | Downloading package genesis to /root/nltk_data...\n",
            "[nltk_data]    |   Package genesis is already up-to-date!\n",
            "[nltk_data]    | Downloading package gutenberg to /root/nltk_data...\n",
            "[nltk_data]    |   Package gutenberg is already up-to-date!\n",
            "[nltk_data]    | Downloading package inaugural to /root/nltk_data...\n",
            "[nltk_data]    |   Package inaugural is already up-to-date!\n",
            "[nltk_data]    | Downloading package movie_reviews to\n",
            "[nltk_data]    |     /root/nltk_data...\n",
            "[nltk_data]    |   Package movie_reviews is already up-to-date!\n",
            "[nltk_data]    | Downloading package names to /root/nltk_data...\n",
            "[nltk_data]    |   Package names is already up-to-date!\n",
            "[nltk_data]    | Downloading package shakespeare to /root/nltk_data...\n",
            "[nltk_data]    |   Package shakespeare is already up-to-date!\n",
            "[nltk_data]    | Downloading package stopwords to /root/nltk_data...\n",
            "[nltk_data]    |   Package stopwords is already up-to-date!\n",
            "[nltk_data]    | Downloading package treebank to /root/nltk_data...\n",
            "[nltk_data]    |   Package treebank is already up-to-date!\n",
            "[nltk_data]    | Downloading package twitter_samples to\n",
            "[nltk_data]    |     /root/nltk_data...\n",
            "[nltk_data]    |   Package twitter_samples is already up-to-date!\n",
            "[nltk_data]    | Downloading package omw to /root/nltk_data...\n",
            "[nltk_data]    |   Package omw is already up-to-date!\n",
            "[nltk_data]    | Downloading package omw-1.4 to /root/nltk_data...\n",
            "[nltk_data]    |   Package omw-1.4 is already up-to-date!\n",
            "[nltk_data]    | Downloading package wordnet to /root/nltk_data...\n",
            "[nltk_data]    |   Package wordnet is already up-to-date!\n",
            "[nltk_data]    | Downloading package wordnet2021 to /root/nltk_data...\n",
            "[nltk_data]    |   Package wordnet2021 is already up-to-date!\n",
            "[nltk_data]    | Downloading package wordnet31 to /root/nltk_data...\n",
            "[nltk_data]    |   Package wordnet31 is already up-to-date!\n",
            "[nltk_data]    | Downloading package wordnet_ic to /root/nltk_data...\n",
            "[nltk_data]    |   Package wordnet_ic is already up-to-date!\n",
            "[nltk_data]    | Downloading package words to /root/nltk_data...\n",
            "[nltk_data]    |   Package words is already up-to-date!\n",
            "[nltk_data]    | Downloading package maxent_ne_chunker to\n",
            "[nltk_data]    |     /root/nltk_data...\n",
            "[nltk_data]    |   Package maxent_ne_chunker is already up-to-date!\n",
            "[nltk_data]    | Downloading package punkt to /root/nltk_data...\n",
            "[nltk_data]    |   Package punkt is already up-to-date!\n",
            "[nltk_data]    | Downloading package snowball_data to\n",
            "[nltk_data]    |     /root/nltk_data...\n",
            "[nltk_data]    |   Package snowball_data is already up-to-date!\n",
            "[nltk_data]    | Downloading package averaged_perceptron_tagger to\n",
            "[nltk_data]    |     /root/nltk_data...\n",
            "[nltk_data]    |   Package averaged_perceptron_tagger is already up-\n",
            "[nltk_data]    |       to-date!\n",
            "[nltk_data]    | \n",
            "[nltk_data]  Done downloading collection popular\n"
          ]
        },
        {
          "output_type": "execute_result",
          "data": {
            "text/plain": [
              "True"
            ]
          },
          "metadata": {},
          "execution_count": 311
        }
      ]
    },
    {
      "cell_type": "code",
      "source": [
        "sentence = \"Jabeur started playing tennis at age 3 because her mother loved the sport and brought her to the courts. With no Tunisian female pros to pattern herself after, she drew elements from a medley of players, particularly admiring Andy Roddick’s serve and sense of humor,She hasn't developed Roddick’s knack for aces, but she’s not afraid to show her personality on the court and reveal her heart off it,She’s one of my favorite people on tour, five-time Wimbledon champion Venus Williams said. She’s just breaking down barriers. I just think you’re going to see a whole ’nother generation of women from North Africa or wherever coming into tennis. It’s going to be all owed to her. She’s inspiring so many people, including me.Wimbledon’s last Black men’s finalist was in 1996. What will it take for another?Jabeur’s game is an inspiration, too — an eclectic blend of drop shots and slices, flat balls and topspin wallops. If the tennis court is a canvas, she paints with more colors than most women. But there’s a method to her artistry, designed to keep ball-bludgeoning baseliners off-balance. It just wasn’t enough to subdue Sabalenka on Tuesday.My favourite tournament before I started playing the Grand Slams was playing the African Games and going around Africa to discover new places.I won the women's singles at the 2011 African Games in Mozambique and I have also visited Botswana, Nigeria and Senegal.When I go back to Tunisia people are very happy to see me. Even when they're driving, people sometimes clap and cheer for me.Tennis is becoming as big in Tunisia as football.Jabeur celebrated winning her fourth-round match against Elise Mertens by thanking the Wimbledon grass.Wimbledon 2022 Ons Jabeur column on loving the big stage and entertaining fans.We've loved Ons Jabeur's columns for BBC Sport during Wimbledon.And what a classy gesture to pen another, just hours after her defeat to Elena Rybakina in the Women's Singles Final.The 2022 Wimbledon Championships was a Grand Slam tier tennis tournamentWimbledon.com uses cookies. We use simple text files called cookies, saved on your computer, to help us deliver the best experience for you.\""
      ],
      "metadata": {
        "id": "Lp8_kHnkA4Yy"
      },
      "execution_count": null,
      "outputs": []
    },
    {
      "cell_type": "code",
      "source": [
        "import string\n",
        "string.punctuation"
      ],
      "metadata": {
        "colab": {
          "base_uri": "https://localhost:8080/",
          "height": 35
        },
        "id": "Ywg8f9kUew5g",
        "outputId": "08ab6981-e9f6-404a-e4bf-983ea19389fd"
      },
      "execution_count": null,
      "outputs": [
        {
          "output_type": "execute_result",
          "data": {
            "text/plain": [
              "'!\"#$%&\\'()*+,-./:;<=>?@[\\\\]^_`{|}~'"
            ],
            "application/vnd.google.colaboratory.intrinsic+json": {
              "type": "string"
            }
          },
          "metadata": {},
          "execution_count": 313
        }
      ]
    },
    {
      "cell_type": "code",
      "source": [
        "for punctuation in string.punctuation:\n",
        "  sentence=sentence.replace(punctuation,'')\n",
        "sentence\n",
        "\n"
      ],
      "metadata": {
        "colab": {
          "base_uri": "https://localhost:8080/",
          "height": 142
        },
        "id": "z44lBuhed6We",
        "outputId": "2bc266d3-267b-4a54-b088-b22cbfb27e18"
      },
      "execution_count": null,
      "outputs": [
        {
          "output_type": "execute_result",
          "data": {
            "text/plain": [
              "'Jabeur started playing tennis at age 3 because her mother loved the sport and brought her to the courts With no Tunisian female pros to pattern herself after she drew elements from a medley of players particularly admiring Andy Roddick’s serve and sense of humorShe hasnt developed Roddick’s knack for aces but she’s not afraid to show her personality on the court and reveal her heart off itShe’s one of my favorite people on tour fivetime Wimbledon champion Venus Williams said She’s just breaking down barriers I just think you’re going to see a whole ’nother generation of women from North Africa or wherever coming into tennis It’s going to be all owed to her She’s inspiring so many people including meWimbledon’s last Black men’s finalist was in 1996 What will it take for anotherJabeur’s game is an inspiration too — an eclectic blend of drop shots and slices flat balls and topspin wallops If the tennis court is a canvas she paints with more colors than most women But there’s a method to her artistry designed to keep ballbludgeoning baseliners offbalance It just wasn’t enough to subdue Sabalenka on TuesdayMy favourite tournament before I started playing the Grand Slams was playing the African Games and going around Africa to discover new placesI won the womens singles at the 2011 African Games in Mozambique and I have also visited Botswana Nigeria and SenegalWhen I go back to Tunisia people are very happy to see me Even when theyre driving people sometimes clap and cheer for meTennis is becoming as big in Tunisia as footballJabeur celebrated winning her fourthround match against Elise Mertens by thanking the Wimbledon grassWimbledon 2022 Ons Jabeur column on loving the big stage and entertaining fansWeve loved Ons Jabeurs columns for BBC Sport during WimbledonAnd what a classy gesture to pen another just hours after her defeat to Elena Rybakina in the Womens Singles FinalThe 2022 Wimbledon Championships was a Grand Slam tier tennis tournamentWimbledoncom uses cookies We use simple text files called cookies saved on your computer to help us deliver the best experience for you'"
            ],
            "application/vnd.google.colaboratory.intrinsic+json": {
              "type": "string"
            }
          },
          "metadata": {},
          "execution_count": 314
        }
      ]
    },
    {
      "cell_type": "markdown",
      "source": [
        "# Transforme ton texte en tokens de phrases"
      ],
      "metadata": {
        "id": "vMXFkwmRE8K9"
      }
    },
    {
      "cell_type": "code",
      "source": [
        "nltk.sent_tokenize(sentence)"
      ],
      "metadata": {
        "colab": {
          "base_uri": "https://localhost:8080/"
        },
        "id": "57TV84Q0EW5I",
        "outputId": "517428fe-71fc-4da7-dc89-ef95274a1329"
      },
      "execution_count": null,
      "outputs": [
        {
          "output_type": "execute_result",
          "data": {
            "text/plain": [
              "['Jabeur started playing tennis at age 3 because her mother loved the sport and brought her to the courts With no Tunisian female pros to pattern herself after she drew elements from a medley of players particularly admiring Andy Roddick’s serve and sense of humorShe hasnt developed Roddick’s knack for aces but she’s not afraid to show her personality on the court and reveal her heart off itShe’s one of my favorite people on tour fivetime Wimbledon champion Venus Williams said She’s just breaking down barriers I just think you’re going to see a whole ’nother generation of women from North Africa or wherever coming into tennis It’s going to be all owed to her She’s inspiring so many people including meWimbledon’s last Black men’s finalist was in 1996 What will it take for anotherJabeur’s game is an inspiration too — an eclectic blend of drop shots and slices flat balls and topspin wallops If the tennis court is a canvas she paints with more colors than most women But there’s a method to her artistry designed to keep ballbludgeoning baseliners offbalance It just wasn’t enough to subdue Sabalenka on TuesdayMy favourite tournament before I started playing the Grand Slams was playing the African Games and going around Africa to discover new placesI won the womens singles at the 2011 African Games in Mozambique and I have also visited Botswana Nigeria and SenegalWhen I go back to Tunisia people are very happy to see me Even when theyre driving people sometimes clap and cheer for meTennis is becoming as big in Tunisia as footballJabeur celebrated winning her fourthround match against Elise Mertens by thanking the Wimbledon grassWimbledon 2022 Ons Jabeur column on loving the big stage and entertaining fansWeve loved Ons Jabeurs columns for BBC Sport during WimbledonAnd what a classy gesture to pen another just hours after her defeat to Elena Rybakina in the Womens Singles FinalThe 2022 Wimbledon Championships was a Grand Slam tier tennis tournamentWimbledoncom uses cookies We use simple text files called cookies saved on your computer to help us deliver the best experience for you']"
            ]
          },
          "metadata": {},
          "execution_count": 315
        }
      ]
    },
    {
      "cell_type": "markdown",
      "source": [
        "# Transforme ton texte en tokens de mots"
      ],
      "metadata": {
        "id": "gkNTFkdOE2pa"
      }
    },
    {
      "cell_type": "code",
      "source": [
        "nltk.word_tokenize(sentence)"
      ],
      "metadata": {
        "colab": {
          "base_uri": "https://localhost:8080/"
        },
        "id": "sAMWo3niEZQH",
        "outputId": "0607e0da-5732-43fc-9ee9-da515598e3da"
      },
      "execution_count": null,
      "outputs": [
        {
          "output_type": "execute_result",
          "data": {
            "text/plain": [
              "['Jabeur',\n",
              " 'started',\n",
              " 'playing',\n",
              " 'tennis',\n",
              " 'at',\n",
              " 'age',\n",
              " '3',\n",
              " 'because',\n",
              " 'her',\n",
              " 'mother',\n",
              " 'loved',\n",
              " 'the',\n",
              " 'sport',\n",
              " 'and',\n",
              " 'brought',\n",
              " 'her',\n",
              " 'to',\n",
              " 'the',\n",
              " 'courts',\n",
              " 'With',\n",
              " 'no',\n",
              " 'Tunisian',\n",
              " 'female',\n",
              " 'pros',\n",
              " 'to',\n",
              " 'pattern',\n",
              " 'herself',\n",
              " 'after',\n",
              " 'she',\n",
              " 'drew',\n",
              " 'elements',\n",
              " 'from',\n",
              " 'a',\n",
              " 'medley',\n",
              " 'of',\n",
              " 'players',\n",
              " 'particularly',\n",
              " 'admiring',\n",
              " 'Andy',\n",
              " 'Roddick',\n",
              " '’',\n",
              " 's',\n",
              " 'serve',\n",
              " 'and',\n",
              " 'sense',\n",
              " 'of',\n",
              " 'humorShe',\n",
              " 'hasnt',\n",
              " 'developed',\n",
              " 'Roddick',\n",
              " '’',\n",
              " 's',\n",
              " 'knack',\n",
              " 'for',\n",
              " 'aces',\n",
              " 'but',\n",
              " 'she',\n",
              " '’',\n",
              " 's',\n",
              " 'not',\n",
              " 'afraid',\n",
              " 'to',\n",
              " 'show',\n",
              " 'her',\n",
              " 'personality',\n",
              " 'on',\n",
              " 'the',\n",
              " 'court',\n",
              " 'and',\n",
              " 'reveal',\n",
              " 'her',\n",
              " 'heart',\n",
              " 'off',\n",
              " 'itShe',\n",
              " '’',\n",
              " 's',\n",
              " 'one',\n",
              " 'of',\n",
              " 'my',\n",
              " 'favorite',\n",
              " 'people',\n",
              " 'on',\n",
              " 'tour',\n",
              " 'fivetime',\n",
              " 'Wimbledon',\n",
              " 'champion',\n",
              " 'Venus',\n",
              " 'Williams',\n",
              " 'said',\n",
              " 'She',\n",
              " '’',\n",
              " 's',\n",
              " 'just',\n",
              " 'breaking',\n",
              " 'down',\n",
              " 'barriers',\n",
              " 'I',\n",
              " 'just',\n",
              " 'think',\n",
              " 'you',\n",
              " '’',\n",
              " 're',\n",
              " 'going',\n",
              " 'to',\n",
              " 'see',\n",
              " 'a',\n",
              " 'whole',\n",
              " '’',\n",
              " 'nother',\n",
              " 'generation',\n",
              " 'of',\n",
              " 'women',\n",
              " 'from',\n",
              " 'North',\n",
              " 'Africa',\n",
              " 'or',\n",
              " 'wherever',\n",
              " 'coming',\n",
              " 'into',\n",
              " 'tennis',\n",
              " 'It',\n",
              " '’',\n",
              " 's',\n",
              " 'going',\n",
              " 'to',\n",
              " 'be',\n",
              " 'all',\n",
              " 'owed',\n",
              " 'to',\n",
              " 'her',\n",
              " 'She',\n",
              " '’',\n",
              " 's',\n",
              " 'inspiring',\n",
              " 'so',\n",
              " 'many',\n",
              " 'people',\n",
              " 'including',\n",
              " 'meWimbledon',\n",
              " '’',\n",
              " 's',\n",
              " 'last',\n",
              " 'Black',\n",
              " 'men',\n",
              " '’',\n",
              " 's',\n",
              " 'finalist',\n",
              " 'was',\n",
              " 'in',\n",
              " '1996',\n",
              " 'What',\n",
              " 'will',\n",
              " 'it',\n",
              " 'take',\n",
              " 'for',\n",
              " 'anotherJabeur',\n",
              " '’',\n",
              " 's',\n",
              " 'game',\n",
              " 'is',\n",
              " 'an',\n",
              " 'inspiration',\n",
              " 'too',\n",
              " '—',\n",
              " 'an',\n",
              " 'eclectic',\n",
              " 'blend',\n",
              " 'of',\n",
              " 'drop',\n",
              " 'shots',\n",
              " 'and',\n",
              " 'slices',\n",
              " 'flat',\n",
              " 'balls',\n",
              " 'and',\n",
              " 'topspin',\n",
              " 'wallops',\n",
              " 'If',\n",
              " 'the',\n",
              " 'tennis',\n",
              " 'court',\n",
              " 'is',\n",
              " 'a',\n",
              " 'canvas',\n",
              " 'she',\n",
              " 'paints',\n",
              " 'with',\n",
              " 'more',\n",
              " 'colors',\n",
              " 'than',\n",
              " 'most',\n",
              " 'women',\n",
              " 'But',\n",
              " 'there',\n",
              " '’',\n",
              " 's',\n",
              " 'a',\n",
              " 'method',\n",
              " 'to',\n",
              " 'her',\n",
              " 'artistry',\n",
              " 'designed',\n",
              " 'to',\n",
              " 'keep',\n",
              " 'ballbludgeoning',\n",
              " 'baseliners',\n",
              " 'offbalance',\n",
              " 'It',\n",
              " 'just',\n",
              " 'wasn',\n",
              " '’',\n",
              " 't',\n",
              " 'enough',\n",
              " 'to',\n",
              " 'subdue',\n",
              " 'Sabalenka',\n",
              " 'on',\n",
              " 'TuesdayMy',\n",
              " 'favourite',\n",
              " 'tournament',\n",
              " 'before',\n",
              " 'I',\n",
              " 'started',\n",
              " 'playing',\n",
              " 'the',\n",
              " 'Grand',\n",
              " 'Slams',\n",
              " 'was',\n",
              " 'playing',\n",
              " 'the',\n",
              " 'African',\n",
              " 'Games',\n",
              " 'and',\n",
              " 'going',\n",
              " 'around',\n",
              " 'Africa',\n",
              " 'to',\n",
              " 'discover',\n",
              " 'new',\n",
              " 'placesI',\n",
              " 'won',\n",
              " 'the',\n",
              " 'womens',\n",
              " 'singles',\n",
              " 'at',\n",
              " 'the',\n",
              " '2011',\n",
              " 'African',\n",
              " 'Games',\n",
              " 'in',\n",
              " 'Mozambique',\n",
              " 'and',\n",
              " 'I',\n",
              " 'have',\n",
              " 'also',\n",
              " 'visited',\n",
              " 'Botswana',\n",
              " 'Nigeria',\n",
              " 'and',\n",
              " 'SenegalWhen',\n",
              " 'I',\n",
              " 'go',\n",
              " 'back',\n",
              " 'to',\n",
              " 'Tunisia',\n",
              " 'people',\n",
              " 'are',\n",
              " 'very',\n",
              " 'happy',\n",
              " 'to',\n",
              " 'see',\n",
              " 'me',\n",
              " 'Even',\n",
              " 'when',\n",
              " 'theyre',\n",
              " 'driving',\n",
              " 'people',\n",
              " 'sometimes',\n",
              " 'clap',\n",
              " 'and',\n",
              " 'cheer',\n",
              " 'for',\n",
              " 'meTennis',\n",
              " 'is',\n",
              " 'becoming',\n",
              " 'as',\n",
              " 'big',\n",
              " 'in',\n",
              " 'Tunisia',\n",
              " 'as',\n",
              " 'footballJabeur',\n",
              " 'celebrated',\n",
              " 'winning',\n",
              " 'her',\n",
              " 'fourthround',\n",
              " 'match',\n",
              " 'against',\n",
              " 'Elise',\n",
              " 'Mertens',\n",
              " 'by',\n",
              " 'thanking',\n",
              " 'the',\n",
              " 'Wimbledon',\n",
              " 'grassWimbledon',\n",
              " '2022',\n",
              " 'Ons',\n",
              " 'Jabeur',\n",
              " 'column',\n",
              " 'on',\n",
              " 'loving',\n",
              " 'the',\n",
              " 'big',\n",
              " 'stage',\n",
              " 'and',\n",
              " 'entertaining',\n",
              " 'fansWeve',\n",
              " 'loved',\n",
              " 'Ons',\n",
              " 'Jabeurs',\n",
              " 'columns',\n",
              " 'for',\n",
              " 'BBC',\n",
              " 'Sport',\n",
              " 'during',\n",
              " 'WimbledonAnd',\n",
              " 'what',\n",
              " 'a',\n",
              " 'classy',\n",
              " 'gesture',\n",
              " 'to',\n",
              " 'pen',\n",
              " 'another',\n",
              " 'just',\n",
              " 'hours',\n",
              " 'after',\n",
              " 'her',\n",
              " 'defeat',\n",
              " 'to',\n",
              " 'Elena',\n",
              " 'Rybakina',\n",
              " 'in',\n",
              " 'the',\n",
              " 'Womens',\n",
              " 'Singles',\n",
              " 'FinalThe',\n",
              " '2022',\n",
              " 'Wimbledon',\n",
              " 'Championships',\n",
              " 'was',\n",
              " 'a',\n",
              " 'Grand',\n",
              " 'Slam',\n",
              " 'tier',\n",
              " 'tennis',\n",
              " 'tournamentWimbledoncom',\n",
              " 'uses',\n",
              " 'cookies',\n",
              " 'We',\n",
              " 'use',\n",
              " 'simple',\n",
              " 'text',\n",
              " 'files',\n",
              " 'called',\n",
              " 'cookies',\n",
              " 'saved',\n",
              " 'on',\n",
              " 'your',\n",
              " 'computer',\n",
              " 'to',\n",
              " 'help',\n",
              " 'us',\n",
              " 'deliver',\n",
              " 'the',\n",
              " 'best',\n",
              " 'experience',\n",
              " 'for',\n",
              " 'you']"
            ]
          },
          "metadata": {},
          "execution_count": 316
        }
      ]
    },
    {
      "cell_type": "markdown",
      "source": [
        "# Transforme ton texte en tokens de mots(methode split)"
      ],
      "metadata": {
        "id": "jlOxg-X8FGv9"
      }
    },
    {
      "cell_type": "code",
      "source": [
        "sentence.split()"
      ],
      "metadata": {
        "colab": {
          "base_uri": "https://localhost:8080/"
        },
        "id": "mmwHQJu1EsDX",
        "outputId": "385b85c0-45e7-4e35-a7a3-695e068abf5f"
      },
      "execution_count": null,
      "outputs": [
        {
          "output_type": "execute_result",
          "data": {
            "text/plain": [
              "['Jabeur',\n",
              " 'started',\n",
              " 'playing',\n",
              " 'tennis',\n",
              " 'at',\n",
              " 'age',\n",
              " '3',\n",
              " 'because',\n",
              " 'her',\n",
              " 'mother',\n",
              " 'loved',\n",
              " 'the',\n",
              " 'sport',\n",
              " 'and',\n",
              " 'brought',\n",
              " 'her',\n",
              " 'to',\n",
              " 'the',\n",
              " 'courts',\n",
              " 'With',\n",
              " 'no',\n",
              " 'Tunisian',\n",
              " 'female',\n",
              " 'pros',\n",
              " 'to',\n",
              " 'pattern',\n",
              " 'herself',\n",
              " 'after',\n",
              " 'she',\n",
              " 'drew',\n",
              " 'elements',\n",
              " 'from',\n",
              " 'a',\n",
              " 'medley',\n",
              " 'of',\n",
              " 'players',\n",
              " 'particularly',\n",
              " 'admiring',\n",
              " 'Andy',\n",
              " 'Roddick’s',\n",
              " 'serve',\n",
              " 'and',\n",
              " 'sense',\n",
              " 'of',\n",
              " 'humorShe',\n",
              " 'hasnt',\n",
              " 'developed',\n",
              " 'Roddick’s',\n",
              " 'knack',\n",
              " 'for',\n",
              " 'aces',\n",
              " 'but',\n",
              " 'she’s',\n",
              " 'not',\n",
              " 'afraid',\n",
              " 'to',\n",
              " 'show',\n",
              " 'her',\n",
              " 'personality',\n",
              " 'on',\n",
              " 'the',\n",
              " 'court',\n",
              " 'and',\n",
              " 'reveal',\n",
              " 'her',\n",
              " 'heart',\n",
              " 'off',\n",
              " 'itShe’s',\n",
              " 'one',\n",
              " 'of',\n",
              " 'my',\n",
              " 'favorite',\n",
              " 'people',\n",
              " 'on',\n",
              " 'tour',\n",
              " 'fivetime',\n",
              " 'Wimbledon',\n",
              " 'champion',\n",
              " 'Venus',\n",
              " 'Williams',\n",
              " 'said',\n",
              " 'She’s',\n",
              " 'just',\n",
              " 'breaking',\n",
              " 'down',\n",
              " 'barriers',\n",
              " 'I',\n",
              " 'just',\n",
              " 'think',\n",
              " 'you’re',\n",
              " 'going',\n",
              " 'to',\n",
              " 'see',\n",
              " 'a',\n",
              " 'whole',\n",
              " '’nother',\n",
              " 'generation',\n",
              " 'of',\n",
              " 'women',\n",
              " 'from',\n",
              " 'North',\n",
              " 'Africa',\n",
              " 'or',\n",
              " 'wherever',\n",
              " 'coming',\n",
              " 'into',\n",
              " 'tennis',\n",
              " 'It’s',\n",
              " 'going',\n",
              " 'to',\n",
              " 'be',\n",
              " 'all',\n",
              " 'owed',\n",
              " 'to',\n",
              " 'her',\n",
              " 'She’s',\n",
              " 'inspiring',\n",
              " 'so',\n",
              " 'many',\n",
              " 'people',\n",
              " 'including',\n",
              " 'meWimbledon’s',\n",
              " 'last',\n",
              " 'Black',\n",
              " 'men’s',\n",
              " 'finalist',\n",
              " 'was',\n",
              " 'in',\n",
              " '1996',\n",
              " 'What',\n",
              " 'will',\n",
              " 'it',\n",
              " 'take',\n",
              " 'for',\n",
              " 'anotherJabeur’s',\n",
              " 'game',\n",
              " 'is',\n",
              " 'an',\n",
              " 'inspiration',\n",
              " 'too',\n",
              " '—',\n",
              " 'an',\n",
              " 'eclectic',\n",
              " 'blend',\n",
              " 'of',\n",
              " 'drop',\n",
              " 'shots',\n",
              " 'and',\n",
              " 'slices',\n",
              " 'flat',\n",
              " 'balls',\n",
              " 'and',\n",
              " 'topspin',\n",
              " 'wallops',\n",
              " 'If',\n",
              " 'the',\n",
              " 'tennis',\n",
              " 'court',\n",
              " 'is',\n",
              " 'a',\n",
              " 'canvas',\n",
              " 'she',\n",
              " 'paints',\n",
              " 'with',\n",
              " 'more',\n",
              " 'colors',\n",
              " 'than',\n",
              " 'most',\n",
              " 'women',\n",
              " 'But',\n",
              " 'there’s',\n",
              " 'a',\n",
              " 'method',\n",
              " 'to',\n",
              " 'her',\n",
              " 'artistry',\n",
              " 'designed',\n",
              " 'to',\n",
              " 'keep',\n",
              " 'ballbludgeoning',\n",
              " 'baseliners',\n",
              " 'offbalance',\n",
              " 'It',\n",
              " 'just',\n",
              " 'wasn’t',\n",
              " 'enough',\n",
              " 'to',\n",
              " 'subdue',\n",
              " 'Sabalenka',\n",
              " 'on',\n",
              " 'TuesdayMy',\n",
              " 'favourite',\n",
              " 'tournament',\n",
              " 'before',\n",
              " 'I',\n",
              " 'started',\n",
              " 'playing',\n",
              " 'the',\n",
              " 'Grand',\n",
              " 'Slams',\n",
              " 'was',\n",
              " 'playing',\n",
              " 'the',\n",
              " 'African',\n",
              " 'Games',\n",
              " 'and',\n",
              " 'going',\n",
              " 'around',\n",
              " 'Africa',\n",
              " 'to',\n",
              " 'discover',\n",
              " 'new',\n",
              " 'placesI',\n",
              " 'won',\n",
              " 'the',\n",
              " 'womens',\n",
              " 'singles',\n",
              " 'at',\n",
              " 'the',\n",
              " '2011',\n",
              " 'African',\n",
              " 'Games',\n",
              " 'in',\n",
              " 'Mozambique',\n",
              " 'and',\n",
              " 'I',\n",
              " 'have',\n",
              " 'also',\n",
              " 'visited',\n",
              " 'Botswana',\n",
              " 'Nigeria',\n",
              " 'and',\n",
              " 'SenegalWhen',\n",
              " 'I',\n",
              " 'go',\n",
              " 'back',\n",
              " 'to',\n",
              " 'Tunisia',\n",
              " 'people',\n",
              " 'are',\n",
              " 'very',\n",
              " 'happy',\n",
              " 'to',\n",
              " 'see',\n",
              " 'me',\n",
              " 'Even',\n",
              " 'when',\n",
              " 'theyre',\n",
              " 'driving',\n",
              " 'people',\n",
              " 'sometimes',\n",
              " 'clap',\n",
              " 'and',\n",
              " 'cheer',\n",
              " 'for',\n",
              " 'meTennis',\n",
              " 'is',\n",
              " 'becoming',\n",
              " 'as',\n",
              " 'big',\n",
              " 'in',\n",
              " 'Tunisia',\n",
              " 'as',\n",
              " 'footballJabeur',\n",
              " 'celebrated',\n",
              " 'winning',\n",
              " 'her',\n",
              " 'fourthround',\n",
              " 'match',\n",
              " 'against',\n",
              " 'Elise',\n",
              " 'Mertens',\n",
              " 'by',\n",
              " 'thanking',\n",
              " 'the',\n",
              " 'Wimbledon',\n",
              " 'grassWimbledon',\n",
              " '2022',\n",
              " 'Ons',\n",
              " 'Jabeur',\n",
              " 'column',\n",
              " 'on',\n",
              " 'loving',\n",
              " 'the',\n",
              " 'big',\n",
              " 'stage',\n",
              " 'and',\n",
              " 'entertaining',\n",
              " 'fansWeve',\n",
              " 'loved',\n",
              " 'Ons',\n",
              " 'Jabeurs',\n",
              " 'columns',\n",
              " 'for',\n",
              " 'BBC',\n",
              " 'Sport',\n",
              " 'during',\n",
              " 'WimbledonAnd',\n",
              " 'what',\n",
              " 'a',\n",
              " 'classy',\n",
              " 'gesture',\n",
              " 'to',\n",
              " 'pen',\n",
              " 'another',\n",
              " 'just',\n",
              " 'hours',\n",
              " 'after',\n",
              " 'her',\n",
              " 'defeat',\n",
              " 'to',\n",
              " 'Elena',\n",
              " 'Rybakina',\n",
              " 'in',\n",
              " 'the',\n",
              " 'Womens',\n",
              " 'Singles',\n",
              " 'FinalThe',\n",
              " '2022',\n",
              " 'Wimbledon',\n",
              " 'Championships',\n",
              " 'was',\n",
              " 'a',\n",
              " 'Grand',\n",
              " 'Slam',\n",
              " 'tier',\n",
              " 'tennis',\n",
              " 'tournamentWimbledoncom',\n",
              " 'uses',\n",
              " 'cookies',\n",
              " 'We',\n",
              " 'use',\n",
              " 'simple',\n",
              " 'text',\n",
              " 'files',\n",
              " 'called',\n",
              " 'cookies',\n",
              " 'saved',\n",
              " 'on',\n",
              " 'your',\n",
              " 'computer',\n",
              " 'to',\n",
              " 'help',\n",
              " 'us',\n",
              " 'deliver',\n",
              " 'the',\n",
              " 'best',\n",
              " 'experience',\n",
              " 'for',\n",
              " 'you']"
            ]
          },
          "metadata": {},
          "execution_count": 317
        }
      ]
    },
    {
      "cell_type": "markdown",
      "source": [
        "# la fréquence d'apparition de chaque mot "
      ],
      "metadata": {
        "id": "0CkSBXkUFWIH"
      }
    },
    {
      "cell_type": "code",
      "source": [
        "nltk.FreqDist(sentence.split(\" \"))"
      ],
      "metadata": {
        "colab": {
          "base_uri": "https://localhost:8080/"
        },
        "id": "lavFnvRlFMI5",
        "outputId": "51c1c75e-754b-4950-9c8b-b814fcbbd1a7"
      },
      "execution_count": null,
      "outputs": [
        {
          "output_type": "execute_result",
          "data": {
            "text/plain": [
              "FreqDist({'to': 15, 'the': 12, 'and': 10, 'her': 8, 'a': 6, 'of': 5, 'for': 5, 'on': 5, 'tennis': 4, 'people': 4, ...})"
            ]
          },
          "metadata": {},
          "execution_count": 318
        }
      ]
    },
    {
      "cell_type": "code",
      "source": [
        "freqdist=nltk.FreqDist(sentence.split(\" \"))\n",
        "freqdist"
      ],
      "metadata": {
        "colab": {
          "base_uri": "https://localhost:8080/"
        },
        "id": "6gZrCiVyF10_",
        "outputId": "bd270d2e-2b9f-4f6f-d5ad-e0b80fa5f49d"
      },
      "execution_count": null,
      "outputs": [
        {
          "output_type": "execute_result",
          "data": {
            "text/plain": [
              "FreqDist({'to': 15, 'the': 12, 'and': 10, 'her': 8, 'a': 6, 'of': 5, 'for': 5, 'on': 5, 'tennis': 4, 'people': 4, ...})"
            ]
          },
          "metadata": {},
          "execution_count": 319
        }
      ]
    },
    {
      "cell_type": "code",
      "source": [
        "freqdist.most_common(20)"
      ],
      "metadata": {
        "colab": {
          "base_uri": "https://localhost:8080/"
        },
        "id": "iefIas06sb6K",
        "outputId": "f4dacada-0535-43bc-c913-454979c9baa4"
      },
      "execution_count": null,
      "outputs": [
        {
          "output_type": "execute_result",
          "data": {
            "text/plain": [
              "[('to', 15),\n",
              " ('the', 12),\n",
              " ('and', 10),\n",
              " ('her', 8),\n",
              " ('a', 6),\n",
              " ('of', 5),\n",
              " ('for', 5),\n",
              " ('on', 5),\n",
              " ('tennis', 4),\n",
              " ('people', 4),\n",
              " ('just', 4),\n",
              " ('I', 4),\n",
              " ('in', 4),\n",
              " ('playing', 3),\n",
              " ('Wimbledon', 3),\n",
              " ('going', 3),\n",
              " ('was', 3),\n",
              " ('is', 3),\n",
              " ('Jabeur', 2),\n",
              " ('started', 2)]"
            ]
          },
          "metadata": {},
          "execution_count": 320
        }
      ]
    },
    {
      "cell_type": "code",
      "source": [
        "pd.DataFrame.from_dict(freqdist,orient='index')"
      ],
      "metadata": {
        "colab": {
          "base_uri": "https://localhost:8080/",
          "height": 424
        },
        "id": "-H5fS3NKPGan",
        "outputId": "12d1e627-a3dc-4b7b-d742-045f03be659c"
      },
      "execution_count": null,
      "outputs": [
        {
          "output_type": "execute_result",
          "data": {
            "text/plain": [
              "            0\n",
              "Jabeur      2\n",
              "started     2\n",
              "playing     3\n",
              "tennis      4\n",
              "at          2\n",
              "...        ..\n",
              "us          1\n",
              "deliver     1\n",
              "best        1\n",
              "experience  1\n",
              "you         1\n",
              "\n",
              "[244 rows x 1 columns]"
            ],
            "text/html": [
              "\n",
              "  <div id=\"df-2b440ca0-e652-4459-bd6b-cef43f950574\">\n",
              "    <div class=\"colab-df-container\">\n",
              "      <div>\n",
              "<style scoped>\n",
              "    .dataframe tbody tr th:only-of-type {\n",
              "        vertical-align: middle;\n",
              "    }\n",
              "\n",
              "    .dataframe tbody tr th {\n",
              "        vertical-align: top;\n",
              "    }\n",
              "\n",
              "    .dataframe thead th {\n",
              "        text-align: right;\n",
              "    }\n",
              "</style>\n",
              "<table border=\"1\" class=\"dataframe\">\n",
              "  <thead>\n",
              "    <tr style=\"text-align: right;\">\n",
              "      <th></th>\n",
              "      <th>0</th>\n",
              "    </tr>\n",
              "  </thead>\n",
              "  <tbody>\n",
              "    <tr>\n",
              "      <th>Jabeur</th>\n",
              "      <td>2</td>\n",
              "    </tr>\n",
              "    <tr>\n",
              "      <th>started</th>\n",
              "      <td>2</td>\n",
              "    </tr>\n",
              "    <tr>\n",
              "      <th>playing</th>\n",
              "      <td>3</td>\n",
              "    </tr>\n",
              "    <tr>\n",
              "      <th>tennis</th>\n",
              "      <td>4</td>\n",
              "    </tr>\n",
              "    <tr>\n",
              "      <th>at</th>\n",
              "      <td>2</td>\n",
              "    </tr>\n",
              "    <tr>\n",
              "      <th>...</th>\n",
              "      <td>...</td>\n",
              "    </tr>\n",
              "    <tr>\n",
              "      <th>us</th>\n",
              "      <td>1</td>\n",
              "    </tr>\n",
              "    <tr>\n",
              "      <th>deliver</th>\n",
              "      <td>1</td>\n",
              "    </tr>\n",
              "    <tr>\n",
              "      <th>best</th>\n",
              "      <td>1</td>\n",
              "    </tr>\n",
              "    <tr>\n",
              "      <th>experience</th>\n",
              "      <td>1</td>\n",
              "    </tr>\n",
              "    <tr>\n",
              "      <th>you</th>\n",
              "      <td>1</td>\n",
              "    </tr>\n",
              "  </tbody>\n",
              "</table>\n",
              "<p>244 rows × 1 columns</p>\n",
              "</div>\n",
              "      <button class=\"colab-df-convert\" onclick=\"convertToInteractive('df-2b440ca0-e652-4459-bd6b-cef43f950574')\"\n",
              "              title=\"Convert this dataframe to an interactive table.\"\n",
              "              style=\"display:none;\">\n",
              "        \n",
              "  <svg xmlns=\"http://www.w3.org/2000/svg\" height=\"24px\"viewBox=\"0 0 24 24\"\n",
              "       width=\"24px\">\n",
              "    <path d=\"M0 0h24v24H0V0z\" fill=\"none\"/>\n",
              "    <path d=\"M18.56 5.44l.94 2.06.94-2.06 2.06-.94-2.06-.94-.94-2.06-.94 2.06-2.06.94zm-11 1L8.5 8.5l.94-2.06 2.06-.94-2.06-.94L8.5 2.5l-.94 2.06-2.06.94zm10 10l.94 2.06.94-2.06 2.06-.94-2.06-.94-.94-2.06-.94 2.06-2.06.94z\"/><path d=\"M17.41 7.96l-1.37-1.37c-.4-.4-.92-.59-1.43-.59-.52 0-1.04.2-1.43.59L10.3 9.45l-7.72 7.72c-.78.78-.78 2.05 0 2.83L4 21.41c.39.39.9.59 1.41.59.51 0 1.02-.2 1.41-.59l7.78-7.78 2.81-2.81c.8-.78.8-2.07 0-2.86zM5.41 20L4 18.59l7.72-7.72 1.47 1.35L5.41 20z\"/>\n",
              "  </svg>\n",
              "      </button>\n",
              "      \n",
              "  <style>\n",
              "    .colab-df-container {\n",
              "      display:flex;\n",
              "      flex-wrap:wrap;\n",
              "      gap: 12px;\n",
              "    }\n",
              "\n",
              "    .colab-df-convert {\n",
              "      background-color: #E8F0FE;\n",
              "      border: none;\n",
              "      border-radius: 50%;\n",
              "      cursor: pointer;\n",
              "      display: none;\n",
              "      fill: #1967D2;\n",
              "      height: 32px;\n",
              "      padding: 0 0 0 0;\n",
              "      width: 32px;\n",
              "    }\n",
              "\n",
              "    .colab-df-convert:hover {\n",
              "      background-color: #E2EBFA;\n",
              "      box-shadow: 0px 1px 2px rgba(60, 64, 67, 0.3), 0px 1px 3px 1px rgba(60, 64, 67, 0.15);\n",
              "      fill: #174EA6;\n",
              "    }\n",
              "\n",
              "    [theme=dark] .colab-df-convert {\n",
              "      background-color: #3B4455;\n",
              "      fill: #D2E3FC;\n",
              "    }\n",
              "\n",
              "    [theme=dark] .colab-df-convert:hover {\n",
              "      background-color: #434B5C;\n",
              "      box-shadow: 0px 1px 3px 1px rgba(0, 0, 0, 0.15);\n",
              "      filter: drop-shadow(0px 1px 2px rgba(0, 0, 0, 0.3));\n",
              "      fill: #FFFFFF;\n",
              "    }\n",
              "  </style>\n",
              "\n",
              "      <script>\n",
              "        const buttonEl =\n",
              "          document.querySelector('#df-2b440ca0-e652-4459-bd6b-cef43f950574 button.colab-df-convert');\n",
              "        buttonEl.style.display =\n",
              "          google.colab.kernel.accessAllowed ? 'block' : 'none';\n",
              "\n",
              "        async function convertToInteractive(key) {\n",
              "          const element = document.querySelector('#df-2b440ca0-e652-4459-bd6b-cef43f950574');\n",
              "          const dataTable =\n",
              "            await google.colab.kernel.invokeFunction('convertToInteractive',\n",
              "                                                     [key], {});\n",
              "          if (!dataTable) return;\n",
              "\n",
              "          const docLinkHtml = 'Like what you see? Visit the ' +\n",
              "            '<a target=\"_blank\" href=https://colab.research.google.com/notebooks/data_table.ipynb>data table notebook</a>'\n",
              "            + ' to learn more about interactive tables.';\n",
              "          element.innerHTML = '';\n",
              "          dataTable['output_type'] = 'display_data';\n",
              "          await google.colab.output.renderOutput(dataTable, element);\n",
              "          const docLink = document.createElement('div');\n",
              "          docLink.innerHTML = docLinkHtml;\n",
              "          element.appendChild(docLink);\n",
              "        }\n",
              "      </script>\n",
              "    </div>\n",
              "  </div>\n",
              "  "
            ]
          },
          "metadata": {},
          "execution_count": 321
        }
      ]
    },
    {
      "cell_type": "code",
      "source": [
        "df=pd.DataFrame.from_dict(freqdist,orient='index')\n",
        "df.rename(columns={0:'frequence'},inplace=True)"
      ],
      "metadata": {
        "id": "c7nxIZqPGjFv"
      },
      "execution_count": null,
      "outputs": []
    },
    {
      "cell_type": "code",
      "source": [
        "df_1=df.sort_values(by='frequence', ascending=False)"
      ],
      "metadata": {
        "id": "d0tPUMDKS0ol"
      },
      "execution_count": null,
      "outputs": []
    },
    {
      "cell_type": "code",
      "source": [
        "df_1.head(20).plot(kind='bar', figsize=(12,10),xlabel=\"mots\",ylabel='frequence')"
      ],
      "metadata": {
        "colab": {
          "base_uri": "https://localhost:8080/",
          "height": 670
        },
        "id": "nidc9cBALo95",
        "outputId": "933769e6-2d4d-4fca-c3c1-496d5715b70f"
      },
      "execution_count": null,
      "outputs": [
        {
          "output_type": "execute_result",
          "data": {
            "text/plain": [
              "<matplotlib.axes._subplots.AxesSubplot at 0x7f0bb5b9cb50>"
            ]
          },
          "metadata": {},
          "execution_count": 324
        },
        {
          "output_type": "display_data",
          "data": {
            "text/plain": [
              "<Figure size 864x720 with 1 Axes>"
            ],
            "image/png": "[encoded data removed]"
          },
          "metadata": {
            "needs_background": "light"
          }
        }
      ]
    },
    {
      "cell_type": "code",
      "source": [
        "tokens = nltk.word_tokenize(sentence.lower())\n",
        "tokens_clean = []\n",
        "\n",
        "for words in tokens:\n",
        "\n",
        "  if words not in nltk.corpus.stopwords.words(\"english\"):\n",
        "\n",
        "    tokens_clean.append(words)\n",
        "\n",
        "\n",
        "tokens_clean"
      ],
      "metadata": {
        "id": "K1TGNTxBM_0D",
        "colab": {
          "base_uri": "https://localhost:8080/"
        },
        "outputId": "23cbf385-0a50-43a9-f3fd-113c12a5ca80"
      },
      "execution_count": null,
      "outputs": [
        {
          "output_type": "execute_result",
          "data": {
            "text/plain": [
              "['jabeur',\n",
              " 'started',\n",
              " 'playing',\n",
              " 'tennis',\n",
              " 'age',\n",
              " '3',\n",
              " 'mother',\n",
              " 'loved',\n",
              " 'sport',\n",
              " 'brought',\n",
              " 'courts',\n",
              " 'tunisian',\n",
              " 'female',\n",
              " 'pros',\n",
              " 'pattern',\n",
              " 'drew',\n",
              " 'elements',\n",
              " 'medley',\n",
              " 'players',\n",
              " 'particularly',\n",
              " 'admiring',\n",
              " 'andy',\n",
              " 'roddick',\n",
              " '’',\n",
              " 'serve',\n",
              " 'sense',\n",
              " 'humorshe',\n",
              " 'hasnt',\n",
              " 'developed',\n",
              " 'roddick',\n",
              " '’',\n",
              " 'knack',\n",
              " 'aces',\n",
              " '’',\n",
              " 'afraid',\n",
              " 'show',\n",
              " 'personality',\n",
              " 'court',\n",
              " 'reveal',\n",
              " 'heart',\n",
              " 'itshe',\n",
              " '’',\n",
              " 'one',\n",
              " 'favorite',\n",
              " 'people',\n",
              " 'tour',\n",
              " 'fivetime',\n",
              " 'wimbledon',\n",
              " 'champion',\n",
              " 'venus',\n",
              " 'williams',\n",
              " 'said',\n",
              " '’',\n",
              " 'breaking',\n",
              " 'barriers',\n",
              " 'think',\n",
              " '’',\n",
              " 'going',\n",
              " 'see',\n",
              " 'whole',\n",
              " '’',\n",
              " 'nother',\n",
              " 'generation',\n",
              " 'women',\n",
              " 'north',\n",
              " 'africa',\n",
              " 'wherever',\n",
              " 'coming',\n",
              " 'tennis',\n",
              " '’',\n",
              " 'going',\n",
              " 'owed',\n",
              " '’',\n",
              " 'inspiring',\n",
              " 'many',\n",
              " 'people',\n",
              " 'including',\n",
              " 'mewimbledon',\n",
              " '’',\n",
              " 'last',\n",
              " 'black',\n",
              " 'men',\n",
              " '’',\n",
              " 'finalist',\n",
              " '1996',\n",
              " 'take',\n",
              " 'anotherjabeur',\n",
              " '’',\n",
              " 'game',\n",
              " 'inspiration',\n",
              " '—',\n",
              " 'eclectic',\n",
              " 'blend',\n",
              " 'drop',\n",
              " 'shots',\n",
              " 'slices',\n",
              " 'flat',\n",
              " 'balls',\n",
              " 'topspin',\n",
              " 'wallops',\n",
              " 'tennis',\n",
              " 'court',\n",
              " 'canvas',\n",
              " 'paints',\n",
              " 'colors',\n",
              " 'women',\n",
              " '’',\n",
              " 'method',\n",
              " 'artistry',\n",
              " 'designed',\n",
              " 'keep',\n",
              " 'ballbludgeoning',\n",
              " 'baseliners',\n",
              " 'offbalance',\n",
              " '’',\n",
              " 'enough',\n",
              " 'subdue',\n",
              " 'sabalenka',\n",
              " 'tuesdaymy',\n",
              " 'favourite',\n",
              " 'tournament',\n",
              " 'started',\n",
              " 'playing',\n",
              " 'grand',\n",
              " 'slams',\n",
              " 'playing',\n",
              " 'african',\n",
              " 'games',\n",
              " 'going',\n",
              " 'around',\n",
              " 'africa',\n",
              " 'discover',\n",
              " 'new',\n",
              " 'placesi',\n",
              " 'womens',\n",
              " 'singles',\n",
              " '2011',\n",
              " 'african',\n",
              " 'games',\n",
              " 'mozambique',\n",
              " 'also',\n",
              " 'visited',\n",
              " 'botswana',\n",
              " 'nigeria',\n",
              " 'senegalwhen',\n",
              " 'go',\n",
              " 'back',\n",
              " 'tunisia',\n",
              " 'people',\n",
              " 'happy',\n",
              " 'see',\n",
              " 'even',\n",
              " 'theyre',\n",
              " 'driving',\n",
              " 'people',\n",
              " 'sometimes',\n",
              " 'clap',\n",
              " 'cheer',\n",
              " 'metennis',\n",
              " 'becoming',\n",
              " 'big',\n",
              " 'tunisia',\n",
              " 'footballjabeur',\n",
              " 'celebrated',\n",
              " 'winning',\n",
              " 'fourthround',\n",
              " 'match',\n",
              " 'elise',\n",
              " 'mertens',\n",
              " 'thanking',\n",
              " 'wimbledon',\n",
              " 'grasswimbledon',\n",
              " '2022',\n",
              " 'ons',\n",
              " 'jabeur',\n",
              " 'column',\n",
              " 'loving',\n",
              " 'big',\n",
              " 'stage',\n",
              " 'entertaining',\n",
              " 'fansweve',\n",
              " 'loved',\n",
              " 'ons',\n",
              " 'jabeurs',\n",
              " 'columns',\n",
              " 'bbc',\n",
              " 'sport',\n",
              " 'wimbledonand',\n",
              " 'classy',\n",
              " 'gesture',\n",
              " 'pen',\n",
              " 'another',\n",
              " 'hours',\n",
              " 'defeat',\n",
              " 'elena',\n",
              " 'rybakina',\n",
              " 'womens',\n",
              " 'singles',\n",
              " 'finalthe',\n",
              " '2022',\n",
              " 'wimbledon',\n",
              " 'championships',\n",
              " 'grand',\n",
              " 'slam',\n",
              " 'tier',\n",
              " 'tennis',\n",
              " 'tournamentwimbledoncom',\n",
              " 'uses',\n",
              " 'cookies',\n",
              " 'use',\n",
              " 'simple',\n",
              " 'text',\n",
              " 'files',\n",
              " 'called',\n",
              " 'cookies',\n",
              " 'saved',\n",
              " 'computer',\n",
              " 'help',\n",
              " 'us',\n",
              " 'deliver',\n",
              " 'best',\n",
              " 'experience']"
            ]
          },
          "metadata": {},
          "execution_count": 325
        }
      ]
    },
    {
      "cell_type": "code",
      "source": [
        "freqdist_clean=nltk.FreqDist(tokens_clean)\n",
        "freqdist_clean"
      ],
      "metadata": {
        "colab": {
          "base_uri": "https://localhost:8080/"
        },
        "id": "SNfyZhniPhtU",
        "outputId": "b53b7169-338b-4e4b-d853-28132a36b624"
      },
      "execution_count": null,
      "outputs": [
        {
          "output_type": "execute_result",
          "data": {
            "text/plain": [
              "FreqDist({'’': 14, 'tennis': 4, 'people': 4, 'playing': 3, 'wimbledon': 3, 'going': 3, 'jabeur': 2, 'started': 2, 'loved': 2, 'sport': 2, ...})"
            ]
          },
          "metadata": {},
          "execution_count": 326
        }
      ]
    },
    {
      "cell_type": "code",
      "source": [
        "#https://www.youtube.com/watch?v=tCPDNCMW5D8\n",
        "freqdist_clean.most_common(20)"
      ],
      "metadata": {
        "colab": {
          "base_uri": "https://localhost:8080/"
        },
        "id": "rNuWCqx-src1",
        "outputId": "cfb3d516-f28b-4542-ccb3-983862c1e039"
      },
      "execution_count": null,
      "outputs": [
        {
          "output_type": "execute_result",
          "data": {
            "text/plain": [
              "[('’', 14),\n",
              " ('tennis', 4),\n",
              " ('people', 4),\n",
              " ('playing', 3),\n",
              " ('wimbledon', 3),\n",
              " ('going', 3),\n",
              " ('jabeur', 2),\n",
              " ('started', 2),\n",
              " ('loved', 2),\n",
              " ('sport', 2),\n",
              " ('roddick', 2),\n",
              " ('court', 2),\n",
              " ('see', 2),\n",
              " ('women', 2),\n",
              " ('africa', 2),\n",
              " ('grand', 2),\n",
              " ('african', 2),\n",
              " ('games', 2),\n",
              " ('womens', 2),\n",
              " ('singles', 2)]"
            ]
          },
          "metadata": {},
          "execution_count": 327
        }
      ]
    },
    {
      "cell_type": "code",
      "source": [
        "pd.DataFrame.from_dict(freqdist_clean,orient='index')"
      ],
      "metadata": {
        "id": "axeAc44zP5jO",
        "colab": {
          "base_uri": "https://localhost:8080/",
          "height": 424
        },
        "outputId": "4f1391db-c462-4b3a-ad20-805a0408d10d"
      },
      "execution_count": null,
      "outputs": [
        {
          "output_type": "execute_result",
          "data": {
            "text/plain": [
              "            0\n",
              "jabeur      2\n",
              "started     2\n",
              "playing     3\n",
              "tennis      4\n",
              "age         1\n",
              "...        ..\n",
              "help        1\n",
              "us          1\n",
              "deliver     1\n",
              "best        1\n",
              "experience  1\n",
              "\n",
              "[178 rows x 1 columns]"
            ],
            "text/html": [
              "\n",
              "  <div id=\"df-cdee5cfd-c1f2-4db8-8652-17678687073d\">\n",
              "    <div class=\"colab-df-container\">\n",
              "      <div>\n",
              "<style scoped>\n",
              "    .dataframe tbody tr th:only-of-type {\n",
              "        vertical-align: middle;\n",
              "    }\n",
              "\n",
              "    .dataframe tbody tr th {\n",
              "        vertical-align: top;\n",
              "    }\n",
              "\n",
              "    .dataframe thead th {\n",
              "        text-align: right;\n",
              "    }\n",
              "</style>\n",
              "<table border=\"1\" class=\"dataframe\">\n",
              "  <thead>\n",
              "    <tr style=\"text-align: right;\">\n",
              "      <th></th>\n",
              "      <th>0</th>\n",
              "    </tr>\n",
              "  </thead>\n",
              "  <tbody>\n",
              "    <tr>\n",
              "      <th>jabeur</th>\n",
              "      <td>2</td>\n",
              "    </tr>\n",
              "    <tr>\n",
              "      <th>started</th>\n",
              "      <td>2</td>\n",
              "    </tr>\n",
              "    <tr>\n",
              "      <th>playing</th>\n",
              "      <td>3</td>\n",
              "    </tr>\n",
              "    <tr>\n",
              "      <th>tennis</th>\n",
              "      <td>4</td>\n",
              "    </tr>\n",
              "    <tr>\n",
              "      <th>age</th>\n",
              "      <td>1</td>\n",
              "    </tr>\n",
              "    <tr>\n",
              "      <th>...</th>\n",
              "      <td>...</td>\n",
              "    </tr>\n",
              "    <tr>\n",
              "      <th>help</th>\n",
              "      <td>1</td>\n",
              "    </tr>\n",
              "    <tr>\n",
              "      <th>us</th>\n",
              "      <td>1</td>\n",
              "    </tr>\n",
              "    <tr>\n",
              "      <th>deliver</th>\n",
              "      <td>1</td>\n",
              "    </tr>\n",
              "    <tr>\n",
              "      <th>best</th>\n",
              "      <td>1</td>\n",
              "    </tr>\n",
              "    <tr>\n",
              "      <th>experience</th>\n",
              "      <td>1</td>\n",
              "    </tr>\n",
              "  </tbody>\n",
              "</table>\n",
              "<p>178 rows × 1 columns</p>\n",
              "</div>\n",
              "      <button class=\"colab-df-convert\" onclick=\"convertToInteractive('df-cdee5cfd-c1f2-4db8-8652-17678687073d')\"\n",
              "              title=\"Convert this dataframe to an interactive table.\"\n",
              "              style=\"display:none;\">\n",
              "        \n",
              "  <svg xmlns=\"http://www.w3.org/2000/svg\" height=\"24px\"viewBox=\"0 0 24 24\"\n",
              "       width=\"24px\">\n",
              "    <path d=\"M0 0h24v24H0V0z\" fill=\"none\"/>\n",
              "    <path d=\"M18.56 5.44l.94 2.06.94-2.06 2.06-.94-2.06-.94-.94-2.06-.94 2.06-2.06.94zm-11 1L8.5 8.5l.94-2.06 2.06-.94-2.06-.94L8.5 2.5l-.94 2.06-2.06.94zm10 10l.94 2.06.94-2.06 2.06-.94-2.06-.94-.94-2.06-.94 2.06-2.06.94z\"/><path d=\"M17.41 7.96l-1.37-1.37c-.4-.4-.92-.59-1.43-.59-.52 0-1.04.2-1.43.59L10.3 9.45l-7.72 7.72c-.78.78-.78 2.05 0 2.83L4 21.41c.39.39.9.59 1.41.59.51 0 1.02-.2 1.41-.59l7.78-7.78 2.81-2.81c.8-.78.8-2.07 0-2.86zM5.41 20L4 18.59l7.72-7.72 1.47 1.35L5.41 20z\"/>\n",
              "  </svg>\n",
              "      </button>\n",
              "      \n",
              "  <style>\n",
              "    .colab-df-container {\n",
              "      display:flex;\n",
              "      flex-wrap:wrap;\n",
              "      gap: 12px;\n",
              "    }\n",
              "\n",
              "    .colab-df-convert {\n",
              "      background-color: #E8F0FE;\n",
              "      border: none;\n",
              "      border-radius: 50%;\n",
              "      cursor: pointer;\n",
              "      display: none;\n",
              "      fill: #1967D2;\n",
              "      height: 32px;\n",
              "      padding: 0 0 0 0;\n",
              "      width: 32px;\n",
              "    }\n",
              "\n",
              "    .colab-df-convert:hover {\n",
              "      background-color: #E2EBFA;\n",
              "      box-shadow: 0px 1px 2px rgba(60, 64, 67, 0.3), 0px 1px 3px 1px rgba(60, 64, 67, 0.15);\n",
              "      fill: #174EA6;\n",
              "    }\n",
              "\n",
              "    [theme=dark] .colab-df-convert {\n",
              "      background-color: #3B4455;\n",
              "      fill: #D2E3FC;\n",
              "    }\n",
              "\n",
              "    [theme=dark] .colab-df-convert:hover {\n",
              "      background-color: #434B5C;\n",
              "      box-shadow: 0px 1px 3px 1px rgba(0, 0, 0, 0.15);\n",
              "      filter: drop-shadow(0px 1px 2px rgba(0, 0, 0, 0.3));\n",
              "      fill: #FFFFFF;\n",
              "    }\n",
              "  </style>\n",
              "\n",
              "      <script>\n",
              "        const buttonEl =\n",
              "          document.querySelector('#df-cdee5cfd-c1f2-4db8-8652-17678687073d button.colab-df-convert');\n",
              "        buttonEl.style.display =\n",
              "          google.colab.kernel.accessAllowed ? 'block' : 'none';\n",
              "\n",
              "        async function convertToInteractive(key) {\n",
              "          const element = document.querySelector('#df-cdee5cfd-c1f2-4db8-8652-17678687073d');\n",
              "          const dataTable =\n",
              "            await google.colab.kernel.invokeFunction('convertToInteractive',\n",
              "                                                     [key], {});\n",
              "          if (!dataTable) return;\n",
              "\n",
              "          const docLinkHtml = 'Like what you see? Visit the ' +\n",
              "            '<a target=\"_blank\" href=https://colab.research.google.com/notebooks/data_table.ipynb>data table notebook</a>'\n",
              "            + ' to learn more about interactive tables.';\n",
              "          element.innerHTML = '';\n",
              "          dataTable['output_type'] = 'display_data';\n",
              "          await google.colab.output.renderOutput(dataTable, element);\n",
              "          const docLink = document.createElement('div');\n",
              "          docLink.innerHTML = docLinkHtml;\n",
              "          element.appendChild(docLink);\n",
              "        }\n",
              "      </script>\n",
              "    </div>\n",
              "  </div>\n",
              "  "
            ]
          },
          "metadata": {},
          "execution_count": 328
        }
      ]
    },
    {
      "cell_type": "code",
      "source": [
        "df_clean=pd.DataFrame.from_dict(freqdist_clean,orient='index')\n",
        "df_clean.rename(columns={0:'frequence'},inplace=True)"
      ],
      "metadata": {
        "id": "B-VCGlV1QBLB"
      },
      "execution_count": null,
      "outputs": []
    },
    {
      "cell_type": "code",
      "source": [
        "df_clean1=df_clean.sort_values(by='frequence', ascending=False)"
      ],
      "metadata": {
        "id": "rhR9ZYITRWoF"
      },
      "execution_count": null,
      "outputs": []
    },
    {
      "cell_type": "code",
      "source": [
        "df_clean1.head(20).plot(kind='bar', figsize=(12,10),xlabel=\"mots\",ylabel='frequence')\n"
      ],
      "metadata": {
        "colab": {
          "base_uri": "https://localhost:8080/",
          "height": 668
        },
        "id": "78qgNJK_QK2m",
        "outputId": "5420a8ff-163e-4388-db84-04cb5774c199"
      },
      "execution_count": null,
      "outputs": [
        {
          "output_type": "execute_result",
          "data": {
            "text/plain": [
              "<matplotlib.axes._subplots.AxesSubplot at 0x7f0bb5cb60a0>"
            ]
          },
          "metadata": {},
          "execution_count": 331
        },
        {
          "output_type": "display_data",
          "data": {
            "text/plain": [
              "<Figure size 864x720 with 1 Axes>"
            ],
            "image/png": "[encoded data removed]"
          },
          "metadata": {
            "needs_background": "light"
          }
        }
      ]
    },
    {
      "cell_type": "code",
      "source": [
        "string.punctuation\n"
      ],
      "metadata": {
        "colab": {
          "base_uri": "https://localhost:8080/",
          "height": 35
        },
        "id": "zo12ujjGTor7",
        "outputId": "90e60450-a9af-4c31-d661-4b2adb32f43d"
      },
      "execution_count": null,
      "outputs": [
        {
          "output_type": "execute_result",
          "data": {
            "text/plain": [
              "'!\"#$%&\\'()*+,-./:;<=>?@[\\\\]^_`{|}~'"
            ],
            "application/vnd.google.colaboratory.intrinsic+json": {
              "type": "string"
            }
          },
          "metadata": {},
          "execution_count": 332
        }
      ]
    },
    {
      "cell_type": "markdown",
      "source": [
        "# ***NLP 2 - Stemming & Lemmatizing***\n",
        "\n",
        "\n"
      ],
      "metadata": {
        "id": "LWB6_0StlWBL"
      }
    },
    {
      "cell_type": "code",
      "source": [
        "sentence"
      ],
      "metadata": {
        "colab": {
          "base_uri": "https://localhost:8080/",
          "height": 142
        },
        "id": "QGbpObUg-5hC",
        "outputId": "806a3260-224c-4d70-9d2b-77120d0a31f0"
      },
      "execution_count": null,
      "outputs": [
        {
          "output_type": "execute_result",
          "data": {
            "text/plain": [
              "'Jabeur started playing tennis at age 3 because her mother loved the sport and brought her to the courts With no Tunisian female pros to pattern herself after she drew elements from a medley of players particularly admiring Andy Roddick’s serve and sense of humorShe hasnt developed Roddick’s knack for aces but she’s not afraid to show her personality on the court and reveal her heart off itShe’s one of my favorite people on tour fivetime Wimbledon champion Venus Williams said She’s just breaking down barriers I just think you’re going to see a whole ’nother generation of women from North Africa or wherever coming into tennis It’s going to be all owed to her She’s inspiring so many people including meWimbledon’s last Black men’s finalist was in 1996 What will it take for anotherJabeur’s game is an inspiration too — an eclectic blend of drop shots and slices flat balls and topspin wallops If the tennis court is a canvas she paints with more colors than most women But there’s a method to her artistry designed to keep ballbludgeoning baseliners offbalance It just wasn’t enough to subdue Sabalenka on TuesdayMy favourite tournament before I started playing the Grand Slams was playing the African Games and going around Africa to discover new placesI won the womens singles at the 2011 African Games in Mozambique and I have also visited Botswana Nigeria and SenegalWhen I go back to Tunisia people are very happy to see me Even when theyre driving people sometimes clap and cheer for meTennis is becoming as big in Tunisia as footballJabeur celebrated winning her fourthround match against Elise Mertens by thanking the Wimbledon grassWimbledon 2022 Ons Jabeur column on loving the big stage and entertaining fansWeve loved Ons Jabeurs columns for BBC Sport during WimbledonAnd what a classy gesture to pen another just hours after her defeat to Elena Rybakina in the Womens Singles FinalThe 2022 Wimbledon Championships was a Grand Slam tier tennis tournamentWimbledoncom uses cookies We use simple text files called cookies saved on your computer to help us deliver the best experience for you'"
            ],
            "application/vnd.google.colaboratory.intrinsic+json": {
              "type": "string"
            }
          },
          "metadata": {},
          "execution_count": 333
        }
      ]
    },
    {
      "cell_type": "code",
      "source": [],
      "metadata": {
        "id": "lvbV905QK1sR"
      },
      "execution_count": null,
      "outputs": []
    },
    {
      "cell_type": "code",
      "source": [
        "\"\"\"sentence=sentence.lower()\n",
        "sentence\"\"\""
      ],
      "metadata": {
        "colab": {
          "base_uri": "https://localhost:8080/",
          "height": 35
        },
        "id": "2hLGdlsd_XQT",
        "outputId": "3779538c-da4c-4e58-bd1c-5531da206800"
      },
      "execution_count": null,
      "outputs": [
        {
          "output_type": "execute_result",
          "data": {
            "text/plain": [
              "'sentence=sentence.lower()\\nsentence'"
            ],
            "application/vnd.google.colaboratory.intrinsic+json": {
              "type": "string"
            }
          },
          "metadata": {},
          "execution_count": 334
        }
      ]
    },
    {
      "cell_type": "code",
      "source": [
        "\"\"\"from nltk.corpus import stopwords \n",
        "from nltk.tokenize import word_tokenize\"\"\""
      ],
      "metadata": {
        "colab": {
          "base_uri": "https://localhost:8080/",
          "height": 35
        },
        "id": "5o8TahGW_e_V",
        "outputId": "952db62d-cc33-45c0-c01f-6e27c84c733b"
      },
      "execution_count": null,
      "outputs": [
        {
          "output_type": "execute_result",
          "data": {
            "text/plain": [
              "'from nltk.corpus import stopwords \\nfrom nltk.tokenize import word_tokenize'"
            ],
            "application/vnd.google.colaboratory.intrinsic+json": {
              "type": "string"
            }
          },
          "metadata": {},
          "execution_count": 335
        }
      ]
    },
    {
      "cell_type": "markdown",
      "source": [
        "**definir stopwords**"
      ],
      "metadata": {
        "id": "5Qy6mq4c_8QS"
      }
    },
    {
      "cell_type": "code",
      "source": [
        "\"\"\"stop_words=stopwords.words('english')\n",
        "stop_words\"\"\""
      ],
      "metadata": {
        "colab": {
          "base_uri": "https://localhost:8080/",
          "height": 35
        },
        "id": "GeJLCgys_5Dr",
        "outputId": "ff35e0c5-c93d-466f-c484-cfbfaebe58e5"
      },
      "execution_count": null,
      "outputs": [
        {
          "output_type": "execute_result",
          "data": {
            "text/plain": [
              "\"stop_words=stopwords.words('english')\\nstop_words\""
            ],
            "application/vnd.google.colaboratory.intrinsic+json": {
              "type": "string"
            }
          },
          "metadata": {},
          "execution_count": 336
        }
      ]
    },
    {
      "cell_type": "markdown",
      "source": [
        "**text token**"
      ],
      "metadata": {
        "id": "HMUPY4QdAFJ9"
      }
    },
    {
      "cell_type": "code",
      "source": [
        "\"\"\"nltk.download('punkt')\n",
        "word_tokens = word_tokenize(sentence)\n",
        "\n",
        "word_tokens\"\"\""
      ],
      "metadata": {
        "colab": {
          "base_uri": "https://localhost:8080/",
          "height": 35
        },
        "id": "VFS_GdNn-8c5",
        "outputId": "4409afbf-9002-4fbe-e2fd-652c352dc39d"
      },
      "execution_count": null,
      "outputs": [
        {
          "output_type": "execute_result",
          "data": {
            "text/plain": [
              "\"nltk.download('punkt')\\nword_tokens = word_tokenize(sentence)\\n\\nword_tokens\""
            ],
            "application/vnd.google.colaboratory.intrinsic+json": {
              "type": "string"
            }
          },
          "metadata": {},
          "execution_count": 337
        }
      ]
    },
    {
      "cell_type": "markdown",
      "source": [
        "**frequence totale de texte**"
      ],
      "metadata": {
        "id": "8is-ovJ8AJ7G"
      }
    },
    {
      "cell_type": "code",
      "source": [
        "\"\"\"nltk.FreqDist(nltk.word_tokenize(sentence))\"\"\""
      ],
      "metadata": {
        "colab": {
          "base_uri": "https://localhost:8080/",
          "height": 35
        },
        "id": "LI-Xz0BblTUj",
        "outputId": "09b804cc-f11b-4137-afef-6b9f1154ee9f"
      },
      "execution_count": null,
      "outputs": [
        {
          "output_type": "execute_result",
          "data": {
            "text/plain": [
              "'nltk.FreqDist(nltk.word_tokenize(sentence))'"
            ],
            "application/vnd.google.colaboratory.intrinsic+json": {
              "type": "string"
            }
          },
          "metadata": {},
          "execution_count": 338
        }
      ]
    },
    {
      "cell_type": "markdown",
      "source": [
        "**texte sans stopwords**"
      ],
      "metadata": {
        "id": "i89KwpgJATAs"
      }
    },
    {
      "cell_type": "code",
      "source": [
        "\"\"\"sentence = [w for w in word_tokens if not w in stop_words]\n",
        "\n",
        "sentence\"\"\""
      ],
      "metadata": {
        "colab": {
          "base_uri": "https://localhost:8080/",
          "height": 35
        },
        "id": "ZJIIDxgT_xoa",
        "outputId": "b029d6cc-ab9e-416d-92c7-648040100f98"
      },
      "execution_count": null,
      "outputs": [
        {
          "output_type": "execute_result",
          "data": {
            "text/plain": [
              "'sentence = [w for w in word_tokens if not w in stop_words]\\n\\nsentence'"
            ],
            "application/vnd.google.colaboratory.intrinsic+json": {
              "type": "string"
            }
          },
          "metadata": {},
          "execution_count": 339
        }
      ]
    },
    {
      "cell_type": "code",
      "source": [
        "\"\"\"from nltk.stem.porter import PorterStemmer\n",
        "stemmer=PorterStemmer()\n",
        "stemmed=[stemmer.stem(word) for word in sentence]\n",
        "\n",
        "stemmed\"\"\""
      ],
      "metadata": {
        "colab": {
          "base_uri": "https://localhost:8080/",
          "height": 35
        },
        "id": "GQMHgALrAlUB",
        "outputId": "e42563dd-ed74-4cef-e847-f7c47812e20b"
      },
      "execution_count": null,
      "outputs": [
        {
          "output_type": "execute_result",
          "data": {
            "text/plain": [
              "'from nltk.stem.porter import PorterStemmer\\nstemmer=PorterStemmer()\\nstemmed=[stemmer.stem(word) for word in sentence]\\n\\nstemmed'"
            ],
            "application/vnd.google.colaboratory.intrinsic+json": {
              "type": "string"
            }
          },
          "metadata": {},
          "execution_count": 340
        }
      ]
    },
    {
      "cell_type": "code",
      "source": [
        "\"\"\"from nltk.stem import WordNetLemmatizer\"\"\""
      ],
      "metadata": {
        "colab": {
          "base_uri": "https://localhost:8080/",
          "height": 35
        },
        "id": "VrZJujZJAt6i",
        "outputId": "95ec864d-6a18-4c80-d221-7b2bbb6cdbce"
      },
      "execution_count": null,
      "outputs": [
        {
          "output_type": "execute_result",
          "data": {
            "text/plain": [
              "'from nltk.stem import WordNetLemmatizer'"
            ],
            "application/vnd.google.colaboratory.intrinsic+json": {
              "type": "string"
            }
          },
          "metadata": {},
          "execution_count": 341
        }
      ]
    },
    {
      "cell_type": "code",
      "source": [
        "\"\"\"lemmatizer=WordNetLemmatizer()\n",
        "lemmatized=[lemmatizer.lemmatize(word) for word in sentence]\n",
        "\n",
        "lemmatized\"\"\""
      ],
      "metadata": {
        "colab": {
          "base_uri": "https://localhost:8080/",
          "height": 35
        },
        "id": "4m5EzYBbBHRb",
        "outputId": "6e44eeee-8a1b-4225-ff38-e89460495b0c"
      },
      "execution_count": null,
      "outputs": [
        {
          "output_type": "execute_result",
          "data": {
            "text/plain": [
              "'lemmatizer=WordNetLemmatizer()\\nlemmatized=[lemmatizer.lemmatize(word) for word in sentence]\\n\\nlemmatized'"
            ],
            "application/vnd.google.colaboratory.intrinsic+json": {
              "type": "string"
            }
          },
          "metadata": {},
          "execution_count": 342
        }
      ]
    },
    {
      "cell_type": "markdown",
      "source": [
        "**SnowballStemmer**"
      ],
      "metadata": {
        "id": "Ae-MAo-XqcQi"
      }
    },
    {
      "cell_type": "code",
      "source": [
        "from nltk.stem import SnowballStemmer\n",
        "\n",
        "stem_en = SnowballStemmer(\"english\")\n",
        "\n",
        "\"\"\"for word in nltk.word_tokenize(sentence):\n",
        "\n",
        "  print(stem_en.stem(word))\"\"\""
      ],
      "metadata": {
        "colab": {
          "base_uri": "https://localhost:8080/",
          "height": 35
        },
        "id": "sreubIUfqDmJ",
        "outputId": "deea2bc5-c8b1-441a-82d4-f4342582dbf5"
      },
      "execution_count": null,
      "outputs": [
        {
          "output_type": "execute_result",
          "data": {
            "text/plain": [
              "'for word in nltk.word_tokenize(sentence):\\n\\n  print(stem_en.stem(word))'"
            ],
            "application/vnd.google.colaboratory.intrinsic+json": {
              "type": "string"
            }
          },
          "metadata": {},
          "execution_count": 373
        }
      ]
    },
    {
      "cell_type": "code",
      "source": [
        "[stem_en.stem(word) for word in tokens_clean]"
      ],
      "metadata": {
        "colab": {
          "base_uri": "https://localhost:8080/"
        },
        "id": "94p-EFjrqMOp",
        "outputId": "2cb05157-308d-4a4c-db2f-92b816afd468"
      },
      "execution_count": null,
      "outputs": [
        {
          "output_type": "execute_result",
          "data": {
            "text/plain": [
              "['jabeur',\n",
              " 'start',\n",
              " 'play',\n",
              " 'tenni',\n",
              " 'age',\n",
              " '3',\n",
              " 'mother',\n",
              " 'love',\n",
              " 'sport',\n",
              " 'brought',\n",
              " 'court',\n",
              " 'tunisian',\n",
              " 'femal',\n",
              " 'pros',\n",
              " 'pattern',\n",
              " 'drew',\n",
              " 'element',\n",
              " 'medley',\n",
              " 'player',\n",
              " 'particular',\n",
              " 'admir',\n",
              " 'andi',\n",
              " 'roddick',\n",
              " '’',\n",
              " 'serv',\n",
              " 'sens',\n",
              " 'humorsh',\n",
              " 'hasnt',\n",
              " 'develop',\n",
              " 'roddick',\n",
              " '’',\n",
              " 'knack',\n",
              " 'ace',\n",
              " '’',\n",
              " 'afraid',\n",
              " 'show',\n",
              " 'person',\n",
              " 'court',\n",
              " 'reveal',\n",
              " 'heart',\n",
              " 'itsh',\n",
              " '’',\n",
              " 'one',\n",
              " 'favorit',\n",
              " 'peopl',\n",
              " 'tour',\n",
              " 'fivetim',\n",
              " 'wimbledon',\n",
              " 'champion',\n",
              " 'venus',\n",
              " 'william',\n",
              " 'said',\n",
              " '’',\n",
              " 'break',\n",
              " 'barrier',\n",
              " 'think',\n",
              " '’',\n",
              " 'go',\n",
              " 'see',\n",
              " 'whole',\n",
              " '’',\n",
              " 'nother',\n",
              " 'generat',\n",
              " 'women',\n",
              " 'north',\n",
              " 'africa',\n",
              " 'wherev',\n",
              " 'come',\n",
              " 'tenni',\n",
              " '’',\n",
              " 'go',\n",
              " 'owe',\n",
              " '’',\n",
              " 'inspir',\n",
              " 'mani',\n",
              " 'peopl',\n",
              " 'includ',\n",
              " 'mewimbledon',\n",
              " '’',\n",
              " 'last',\n",
              " 'black',\n",
              " 'men',\n",
              " '’',\n",
              " 'finalist',\n",
              " '1996',\n",
              " 'take',\n",
              " 'anotherjabeur',\n",
              " '’',\n",
              " 'game',\n",
              " 'inspir',\n",
              " '—',\n",
              " 'eclect',\n",
              " 'blend',\n",
              " 'drop',\n",
              " 'shot',\n",
              " 'slice',\n",
              " 'flat',\n",
              " 'ball',\n",
              " 'topspin',\n",
              " 'wallop',\n",
              " 'tenni',\n",
              " 'court',\n",
              " 'canva',\n",
              " 'paint',\n",
              " 'color',\n",
              " 'women',\n",
              " '’',\n",
              " 'method',\n",
              " 'artistri',\n",
              " 'design',\n",
              " 'keep',\n",
              " 'ballbludgeon',\n",
              " 'baselin',\n",
              " 'offbal',\n",
              " '’',\n",
              " 'enough',\n",
              " 'subdu',\n",
              " 'sabalenka',\n",
              " 'tuesdaymi',\n",
              " 'favourit',\n",
              " 'tournament',\n",
              " 'start',\n",
              " 'play',\n",
              " 'grand',\n",
              " 'slam',\n",
              " 'play',\n",
              " 'african',\n",
              " 'game',\n",
              " 'go',\n",
              " 'around',\n",
              " 'africa',\n",
              " 'discov',\n",
              " 'new',\n",
              " 'placesi',\n",
              " 'women',\n",
              " 'singl',\n",
              " '2011',\n",
              " 'african',\n",
              " 'game',\n",
              " 'mozambiqu',\n",
              " 'also',\n",
              " 'visit',\n",
              " 'botswana',\n",
              " 'nigeria',\n",
              " 'senegalwhen',\n",
              " 'go',\n",
              " 'back',\n",
              " 'tunisia',\n",
              " 'peopl',\n",
              " 'happi',\n",
              " 'see',\n",
              " 'even',\n",
              " 'theyr',\n",
              " 'drive',\n",
              " 'peopl',\n",
              " 'sometim',\n",
              " 'clap',\n",
              " 'cheer',\n",
              " 'metenni',\n",
              " 'becom',\n",
              " 'big',\n",
              " 'tunisia',\n",
              " 'footballjabeur',\n",
              " 'celebr',\n",
              " 'win',\n",
              " 'fourthround',\n",
              " 'match',\n",
              " 'elis',\n",
              " 'merten',\n",
              " 'thank',\n",
              " 'wimbledon',\n",
              " 'grasswimbledon',\n",
              " '2022',\n",
              " 'on',\n",
              " 'jabeur',\n",
              " 'column',\n",
              " 'love',\n",
              " 'big',\n",
              " 'stage',\n",
              " 'entertain',\n",
              " 'fanswev',\n",
              " 'love',\n",
              " 'on',\n",
              " 'jabeur',\n",
              " 'column',\n",
              " 'bbc',\n",
              " 'sport',\n",
              " 'wimbledonand',\n",
              " 'classi',\n",
              " 'gestur',\n",
              " 'pen',\n",
              " 'anoth',\n",
              " 'hour',\n",
              " 'defeat',\n",
              " 'elena',\n",
              " 'rybakina',\n",
              " 'women',\n",
              " 'singl',\n",
              " 'finalth',\n",
              " '2022',\n",
              " 'wimbledon',\n",
              " 'championship',\n",
              " 'grand',\n",
              " 'slam',\n",
              " 'tier',\n",
              " 'tenni',\n",
              " 'tournamentwimbledoncom',\n",
              " 'use',\n",
              " 'cooki',\n",
              " 'use',\n",
              " 'simpl',\n",
              " 'text',\n",
              " 'file',\n",
              " 'call',\n",
              " 'cooki',\n",
              " 'save',\n",
              " 'comput',\n",
              " 'help',\n",
              " 'us',\n",
              " 'deliv',\n",
              " 'best',\n",
              " 'experi']"
            ]
          },
          "metadata": {},
          "execution_count": 374
        }
      ]
    },
    {
      "cell_type": "code",
      "source": [
        "sent_stem  = [stem_en.stem(word) for word in tokens_clean]"
      ],
      "metadata": {
        "id": "lfhSgJD8qfKp"
      },
      "execution_count": null,
      "outputs": []
    },
    {
      "cell_type": "code",
      "source": [
        "frequence_stem=nltk.FreqDist(sent_stem).most_common(20)\n",
        "frequence_stem"
      ],
      "metadata": {
        "colab": {
          "base_uri": "https://localhost:8080/"
        },
        "id": "mdJP03ZANfZv",
        "outputId": "742a4cc6-21b1-4b28-a499-85ca0bb2e075"
      },
      "execution_count": null,
      "outputs": [
        {
          "output_type": "execute_result",
          "data": {
            "text/plain": [
              "[('’', 14),\n",
              " ('tenni', 4),\n",
              " ('peopl', 4),\n",
              " ('go', 4),\n",
              " ('women', 4),\n",
              " ('jabeur', 3),\n",
              " ('play', 3),\n",
              " ('love', 3),\n",
              " ('court', 3),\n",
              " ('wimbledon', 3),\n",
              " ('game', 3),\n",
              " ('start', 2),\n",
              " ('sport', 2),\n",
              " ('roddick', 2),\n",
              " ('see', 2),\n",
              " ('africa', 2),\n",
              " ('inspir', 2),\n",
              " ('grand', 2),\n",
              " ('slam', 2),\n",
              " ('african', 2)]"
            ]
          },
          "metadata": {},
          "execution_count": 387
        }
      ]
    },
    {
      "cell_type": "markdown",
      "source": [
        "\n",
        "# **Lemmatizing**\n",
        "\n"
      ],
      "metadata": {
        "id": "TMn-ynUrq9iK"
      }
    },
    {
      "cell_type": "code",
      "source": [],
      "metadata": {
        "id": "Cze6bVz2CN1h"
      },
      "execution_count": null,
      "outputs": []
    },
    {
      "cell_type": "code",
      "source": [
        "import spacy\n",
        "\n",
        "# Import des règles anglaises\n",
        "\n",
        "nlp = spacy.load('en_core_web_sm')\n"
      ],
      "metadata": {
        "id": "1IehAYHlCTWY"
      },
      "execution_count": null,
      "outputs": []
    },
    {
      "cell_type": "code",
      "source": [
        "words_str=' '.join(tokens_clean)"
      ],
      "metadata": {
        "id": "tV6y-R9LMpEx"
      },
      "execution_count": null,
      "outputs": []
    },
    {
      "cell_type": "code",
      "source": [
        "# spacy découpe automatiquement en tokens avec cette syntaxe :\n",
        "\n",
        "sent_tokens = nlp(words_str)\n",
        "\n",
        "\n",
        "for token in sent_tokens:\n",
        "\n",
        "    print(token, token.lemma_)"
      ],
      "metadata": {
        "colab": {
          "base_uri": "https://localhost:8080/"
        },
        "id": "w_f2lE9gMlGW",
        "outputId": "b6af52c2-d29f-44aa-c732-0a3733b5b3f9"
      },
      "execution_count": null,
      "outputs": [
        {
          "output_type": "stream",
          "name": "stdout",
          "text": [
            "jabeur jabeur\n",
            "started start\n",
            "playing play\n",
            "tennis tennis\n",
            "age age\n",
            "3 3\n",
            "mother mother\n",
            "loved love\n",
            "sport sport\n",
            "brought bring\n",
            "courts court\n",
            "tunisian tunisian\n",
            "female female\n",
            "pros pro\n",
            "pattern pattern\n",
            "drew draw\n",
            "elements element\n",
            "medley medley\n",
            "players player\n",
            "particularly particularly\n",
            "admiring admire\n",
            "andy andy\n",
            "roddick roddick\n",
            "’ '\n",
            "serve serve\n",
            "sense sense\n",
            "humorshe humorshe\n",
            "has have\n",
            "nt not\n",
            "developed develop\n",
            "roddick roddick\n",
            "’ '\n",
            "knack knack\n",
            "aces ace\n",
            "’ '\n",
            "afraid afraid\n",
            "show show\n",
            "personality personality\n",
            "court court\n",
            "reveal reveal\n",
            "heart heart\n",
            "itshe itshe\n",
            "’ '\n",
            "one one\n",
            "favorite favorite\n",
            "people people\n",
            "tour tour\n",
            "fivetime fivetime\n",
            "wimbledon wimbledon\n",
            "champion champion\n",
            "venus venus\n",
            "williams williams\n",
            "said say\n",
            "’ '\n",
            "breaking break\n",
            "barriers barrier\n",
            "think think\n",
            "’ '\n",
            "going going\n",
            "see see\n",
            "whole whole\n",
            "’ '\n",
            "nother nother\n",
            "generation generation\n",
            "women woman\n",
            "north north\n",
            "africa africa\n",
            "wherever wherever\n",
            "coming come\n",
            "tennis tennis\n",
            "’ '\n",
            "going going\n",
            "owed owe\n",
            "’ '\n",
            "inspiring inspire\n",
            "many many\n",
            "people people\n",
            "including include\n",
            "mewimbledon mewimbledon\n",
            "’ '\n",
            "last last\n",
            "black black\n",
            "men man\n",
            "’ '\n",
            "finalist finalist\n",
            "1996 1996\n",
            "take take\n",
            "anotherjabeur anotherjabeur\n",
            "’ '\n",
            "game game\n",
            "inspiration inspiration\n",
            "— —\n",
            "eclectic eclectic\n",
            "blend blend\n",
            "drop drop\n",
            "shots shot\n",
            "slices slice\n",
            "flat flat\n",
            "balls ball\n",
            "topspin topspin\n",
            "wallops wallops\n",
            "tennis tennis\n",
            "court court\n",
            "canvas canvas\n",
            "paints paint\n",
            "colors color\n",
            "women woman\n",
            "’ ’\n",
            "method method\n",
            "artistry artistry\n",
            "designed design\n",
            "keep keep\n",
            "ballbludgeoning ballbludgeone\n",
            "baseliners baseliner\n",
            "offbalance offbalance\n",
            "’ '\n",
            "enough enough\n",
            "subdue subdue\n",
            "sabalenka sabalenka\n",
            "tuesdaymy tuesdaymy\n",
            "favourite favourite\n",
            "tournament tournament\n",
            "started start\n",
            "playing play\n",
            "grand grand\n",
            "slams slam\n",
            "playing play\n",
            "african african\n",
            "games game\n",
            "going go\n",
            "around around\n",
            "africa africa\n",
            "discover discover\n",
            "new new\n",
            "placesi placesi\n",
            "womens womens\n",
            "singles single\n",
            "2011 2011\n",
            "african african\n",
            "games game\n",
            "mozambique mozambique\n",
            "also also\n",
            "visited visit\n",
            "botswana botswana\n",
            "nigeria nigeria\n",
            "senegalwhen senegalwhen\n",
            "go go\n",
            "back back\n",
            "tunisia tunisia\n",
            "people people\n",
            "happy happy\n",
            "see see\n",
            "even even\n",
            "they they\n",
            "re re\n",
            "driving drive\n",
            "people people\n",
            "sometimes sometimes\n",
            "clap clap\n",
            "cheer cheer\n",
            "metennis metennis\n",
            "becoming become\n",
            "big big\n",
            "tunisia tunisia\n",
            "footballjabeur footballjabeur\n",
            "celebrated celebrate\n",
            "winning win\n",
            "fourthround fourthround\n",
            "match match\n",
            "elise elise\n",
            "mertens merten\n",
            "thanking thank\n",
            "wimbledon wimbledon\n",
            "grasswimbledon grasswimbledon\n",
            "2022 2022\n",
            "ons ons\n",
            "jabeur jabeur\n",
            "column column\n",
            "loving love\n",
            "big big\n",
            "stage stage\n",
            "entertaining entertain\n",
            "fansweve fansweve\n",
            "loved love\n",
            "ons ons\n",
            "jabeurs jabeur\n",
            "columns column\n",
            "bbc bbc\n",
            "sport sport\n",
            "wimbledonand wimbledonand\n",
            "classy classy\n",
            "gesture gesture\n",
            "pen pen\n",
            "another another\n",
            "hours hour\n",
            "defeat defeat\n",
            "elena elena\n",
            "rybakina rybakina\n",
            "womens womens\n",
            "singles single\n",
            "finalthe finalthe\n",
            "2022 2022\n",
            "wimbledon wimbledon\n",
            "championships championships\n",
            "grand grand\n",
            "slam slam\n",
            "tier tier\n",
            "tennis tennis\n",
            "tournamentwimbledoncom tournamentwimbledoncom\n",
            "uses use\n",
            "cookies cookie\n",
            "use use\n",
            "simple simple\n",
            "text text\n",
            "files file\n",
            "called call\n",
            "cookies cookie\n",
            "saved save\n",
            "computer computer\n",
            "help help\n",
            "us we\n",
            "deliver deliver\n",
            "best good\n",
            "experience experience\n"
          ]
        }
      ]
    },
    {
      "cell_type": "code",
      "source": [
        "\"\"\"import spacy\n",
        "\n",
        "# Import des règles anglaises\n",
        "\n",
        "nlp = spacy.load('en_core_web_sm')\n",
        "\n",
        "\n",
        "# spacy découpe automatiquement en tokens avec cette syntaxe :\n",
        "\n",
        "sent_tokens = nlp(sentence)\n",
        "\n",
        "\n",
        "for token in sent_tokens:\n",
        "\n",
        "    print(token.lemma_)\"\"\"\n",
        "   "
      ],
      "metadata": {
        "colab": {
          "base_uri": "https://localhost:8080/",
          "height": 53
        },
        "id": "Zvth7YtHDQ_Y",
        "outputId": "35d92662-5530-4709-e925-9d1b0cc17808"
      },
      "execution_count": null,
      "outputs": [
        {
          "output_type": "execute_result",
          "data": {
            "text/plain": [
              "\"import spacy\\n\\n# Import des règles anglaises\\n\\nnlp = spacy.load('en_core_web_sm')\\n\\n\\n# spacy découpe automatiquement en tokens avec cette syntaxe :\\n\\nsent_tokens = nlp(sentence)\\n\\n\\nfor token in sent_tokens:\\n\\n    print(token.lemma_)\""
            ],
            "application/vnd.google.colaboratory.intrinsic+json": {
              "type": "string"
            }
          },
          "metadata": {},
          "execution_count": 381
        }
      ]
    },
    {
      "cell_type": "code",
      "source": [
        "\"\"\"# import these modules\n",
        "from nltk.stem import WordNetLemmatizer\n",
        "lemmatizer = WordNetLemmatizer()\n",
        "lemmatizer.lemmatize(sentence)\"\"\" #ce n'est pas bon "
      ],
      "metadata": {
        "colab": {
          "base_uri": "https://localhost:8080/",
          "height": 35
        },
        "id": "24q507EEEd96",
        "outputId": "c097c9f3-43f7-48f3-a522-cec56d6d526e"
      },
      "execution_count": null,
      "outputs": [
        {
          "output_type": "execute_result",
          "data": {
            "text/plain": [
              "'# import these modules\\nfrom nltk.stem import WordNetLemmatizer\\nlemmatizer = WordNetLemmatizer()\\nlemmatizer.lemmatize(sentence)'"
            ],
            "application/vnd.google.colaboratory.intrinsic+json": {
              "type": "string"
            }
          },
          "metadata": {},
          "execution_count": 359
        }
      ]
    },
    {
      "cell_type": "code",
      "source": [
        "tokens_lem=[]\n",
        "for token in sent_tokens:\n",
        "  tokens_lem.append(token.lemma_)"
      ],
      "metadata": {
        "id": "BN1_949FIR1w"
      },
      "execution_count": null,
      "outputs": []
    },
    {
      "cell_type": "code",
      "source": [
        "tokens_lem"
      ],
      "metadata": {
        "colab": {
          "base_uri": "https://localhost:8080/"
        },
        "id": "6HUBNBWEIt0R",
        "outputId": "035a090f-499e-443c-96d2-bac6275e8d4c"
      },
      "execution_count": null,
      "outputs": [
        {
          "output_type": "execute_result",
          "data": {
            "text/plain": [
              "['jabeur',\n",
              " 'start',\n",
              " 'play',\n",
              " 'tennis',\n",
              " 'age',\n",
              " '3',\n",
              " 'mother',\n",
              " 'love',\n",
              " 'sport',\n",
              " 'bring',\n",
              " 'court',\n",
              " 'tunisian',\n",
              " 'female',\n",
              " 'pro',\n",
              " 'pattern',\n",
              " 'draw',\n",
              " 'element',\n",
              " 'medley',\n",
              " 'player',\n",
              " 'particularly',\n",
              " 'admire',\n",
              " 'andy',\n",
              " 'roddick',\n",
              " \"'\",\n",
              " 'serve',\n",
              " 'sense',\n",
              " 'humorshe',\n",
              " 'have',\n",
              " 'not',\n",
              " 'develop',\n",
              " 'roddick',\n",
              " \"'\",\n",
              " 'knack',\n",
              " 'ace',\n",
              " \"'\",\n",
              " 'afraid',\n",
              " 'show',\n",
              " 'personality',\n",
              " 'court',\n",
              " 'reveal',\n",
              " 'heart',\n",
              " 'itshe',\n",
              " \"'\",\n",
              " 'one',\n",
              " 'favorite',\n",
              " 'people',\n",
              " 'tour',\n",
              " 'fivetime',\n",
              " 'wimbledon',\n",
              " 'champion',\n",
              " 'venus',\n",
              " 'williams',\n",
              " 'say',\n",
              " \"'\",\n",
              " 'break',\n",
              " 'barrier',\n",
              " 'think',\n",
              " \"'\",\n",
              " 'going',\n",
              " 'see',\n",
              " 'whole',\n",
              " \"'\",\n",
              " 'nother',\n",
              " 'generation',\n",
              " 'woman',\n",
              " 'north',\n",
              " 'africa',\n",
              " 'wherever',\n",
              " 'come',\n",
              " 'tennis',\n",
              " \"'\",\n",
              " 'going',\n",
              " 'owe',\n",
              " \"'\",\n",
              " 'inspire',\n",
              " 'many',\n",
              " 'people',\n",
              " 'include',\n",
              " 'mewimbledon',\n",
              " \"'\",\n",
              " 'last',\n",
              " 'black',\n",
              " 'man',\n",
              " \"'\",\n",
              " 'finalist',\n",
              " '1996',\n",
              " 'take',\n",
              " 'anotherjabeur',\n",
              " \"'\",\n",
              " 'game',\n",
              " 'inspiration',\n",
              " '—',\n",
              " 'eclectic',\n",
              " 'blend',\n",
              " 'drop',\n",
              " 'shot',\n",
              " 'slice',\n",
              " 'flat',\n",
              " 'ball',\n",
              " 'topspin',\n",
              " 'wallops',\n",
              " 'tennis',\n",
              " 'court',\n",
              " 'canvas',\n",
              " 'paint',\n",
              " 'color',\n",
              " 'woman',\n",
              " '’',\n",
              " 'method',\n",
              " 'artistry',\n",
              " 'design',\n",
              " 'keep',\n",
              " 'ballbludgeone',\n",
              " 'baseliner',\n",
              " 'offbalance',\n",
              " \"'\",\n",
              " 'enough',\n",
              " 'subdue',\n",
              " 'sabalenka',\n",
              " 'tuesdaymy',\n",
              " 'favourite',\n",
              " 'tournament',\n",
              " 'start',\n",
              " 'play',\n",
              " 'grand',\n",
              " 'slam',\n",
              " 'play',\n",
              " 'african',\n",
              " 'game',\n",
              " 'go',\n",
              " 'around',\n",
              " 'africa',\n",
              " 'discover',\n",
              " 'new',\n",
              " 'placesi',\n",
              " 'womens',\n",
              " 'single',\n",
              " '2011',\n",
              " 'african',\n",
              " 'game',\n",
              " 'mozambique',\n",
              " 'also',\n",
              " 'visit',\n",
              " 'botswana',\n",
              " 'nigeria',\n",
              " 'senegalwhen',\n",
              " 'go',\n",
              " 'back',\n",
              " 'tunisia',\n",
              " 'people',\n",
              " 'happy',\n",
              " 'see',\n",
              " 'even',\n",
              " 'they',\n",
              " 're',\n",
              " 'drive',\n",
              " 'people',\n",
              " 'sometimes',\n",
              " 'clap',\n",
              " 'cheer',\n",
              " 'metennis',\n",
              " 'become',\n",
              " 'big',\n",
              " 'tunisia',\n",
              " 'footballjabeur',\n",
              " 'celebrate',\n",
              " 'win',\n",
              " 'fourthround',\n",
              " 'match',\n",
              " 'elise',\n",
              " 'merten',\n",
              " 'thank',\n",
              " 'wimbledon',\n",
              " 'grasswimbledon',\n",
              " '2022',\n",
              " 'ons',\n",
              " 'jabeur',\n",
              " 'column',\n",
              " 'love',\n",
              " 'big',\n",
              " 'stage',\n",
              " 'entertain',\n",
              " 'fansweve',\n",
              " 'love',\n",
              " 'ons',\n",
              " 'jabeur',\n",
              " 'column',\n",
              " 'bbc',\n",
              " 'sport',\n",
              " 'wimbledonand',\n",
              " 'classy',\n",
              " 'gesture',\n",
              " 'pen',\n",
              " 'another',\n",
              " 'hour',\n",
              " 'defeat',\n",
              " 'elena',\n",
              " 'rybakina',\n",
              " 'womens',\n",
              " 'single',\n",
              " 'finalthe',\n",
              " '2022',\n",
              " 'wimbledon',\n",
              " 'championships',\n",
              " 'grand',\n",
              " 'slam',\n",
              " 'tier',\n",
              " 'tennis',\n",
              " 'tournamentwimbledoncom',\n",
              " 'use',\n",
              " 'cookie',\n",
              " 'use',\n",
              " 'simple',\n",
              " 'text',\n",
              " 'file',\n",
              " 'call',\n",
              " 'cookie',\n",
              " 'save',\n",
              " 'computer',\n",
              " 'help',\n",
              " 'we',\n",
              " 'deliver',\n",
              " 'good',\n",
              " 'experience']"
            ]
          },
          "metadata": {},
          "execution_count": 383
        }
      ]
    },
    {
      "cell_type": "code",
      "source": [
        "frequence_lem=nltk.FreqDist(tokens_lem).most_common(20)\n",
        "frequence_lem"
      ],
      "metadata": {
        "colab": {
          "base_uri": "https://localhost:8080/"
        },
        "id": "y-GPzsGSKA3O",
        "outputId": "e50efe3f-cbc4-45c5-d3a0-33a9890c6b1c"
      },
      "execution_count": null,
      "outputs": [
        {
          "output_type": "execute_result",
          "data": {
            "text/plain": [
              "[(\"'\", 13),\n",
              " ('tennis', 4),\n",
              " ('people', 4),\n",
              " ('jabeur', 3),\n",
              " ('play', 3),\n",
              " ('love', 3),\n",
              " ('court', 3),\n",
              " ('wimbledon', 3),\n",
              " ('game', 3),\n",
              " ('start', 2),\n",
              " ('sport', 2),\n",
              " ('roddick', 2),\n",
              " ('going', 2),\n",
              " ('see', 2),\n",
              " ('woman', 2),\n",
              " ('africa', 2),\n",
              " ('grand', 2),\n",
              " ('slam', 2),\n",
              " ('african', 2),\n",
              " ('go', 2)]"
            ]
          },
          "metadata": {},
          "execution_count": 385
        }
      ]
    },
    {
      "cell_type": "code",
      "source": [
        "print(\"lem:\",frequence_lem)\n",
        "print('........................')\n",
        "print(\"stem:\",frequence_stem)"
      ],
      "metadata": {
        "colab": {
          "base_uri": "https://localhost:8080/"
        },
        "id": "MKAKA5lVNjYg",
        "outputId": "705c87de-732b-479d-9d18-50c51119d71e"
      },
      "execution_count": null,
      "outputs": [
        {
          "output_type": "stream",
          "name": "stdout",
          "text": [
            "lem: [(\"'\", 13), ('tennis', 4), ('people', 4), ('jabeur', 3), ('play', 3), ('love', 3), ('court', 3), ('wimbledon', 3), ('game', 3), ('start', 2), ('sport', 2), ('roddick', 2), ('going', 2), ('see', 2), ('woman', 2), ('africa', 2), ('grand', 2), ('slam', 2), ('african', 2), ('go', 2)]\n",
            "........................\n",
            "stem: [('’', 14), ('tenni', 4), ('peopl', 4), ('go', 4), ('women', 4), ('jabeur', 3), ('play', 3), ('love', 3), ('court', 3), ('wimbledon', 3), ('game', 3), ('start', 2), ('sport', 2), ('roddick', 2), ('see', 2), ('africa', 2), ('inspir', 2), ('grand', 2), ('slam', 2), ('african', 2)]\n"
          ]
        }
      ]
    }
  ]
}